{
  "nbformat": 4,
  "nbformat_minor": 0,
  "metadata": {
    "colab": {
      "name": "tSNE.ipynb",
      "provenance": []
    },
    "kernelspec": {
      "name": "python3",
      "display_name": "Python 3"
    },
    "language_info": {
      "name": "python"
    }
  },
  "cells": [
    {
      "cell_type": "code",
      "metadata": {
        "id": "gWJS3EWTq6zF"
      },
      "source": [
        "import torch\n",
        "from torchvision import models\n",
        "from torch.hub import load_state_dict_from_url"
      ],
      "execution_count": null,
      "outputs": []
    },
    {
      "cell_type": "code",
      "metadata": {
        "id": "z6rZyQzPrANw"
      },
      "source": [
        "class ResNet101(models.ResNet):\n",
        "    def __init__(self, num_classes=1000, pretrained=True, **kwargs):\n",
        "        super().__init__(block=models.resnet.Bottleneck, layers=[3, 4, 23, 3], num_classes=num_classes, **kwargs)\n",
        "        if pretrained:\n",
        "            state_dict = load_state_dict_from_url(models.resnet.model_urls['resnet101'], progress=True)\n",
        "            self.load_state_dict(state_dict)\n",
        "\n",
        "    def _forward_impl(self, x):\n",
        "        x = self.conv1(x)\n",
        "        x = self.bn1(x)\n",
        "        x = self.relu(x)\n",
        "        x = self.maxpool(x)\n",
        "\n",
        "        x = self.layer1(x)\n",
        "        x = self.layer2(x)\n",
        "        x = self.layer3(x)\n",
        "        x = self.layer4(x)\n",
        "\n",
        "        x = self.avgpool(x)\n",
        "        x = torch.flatten(x, 1)\n",
        "\n",
        "        return x"
      ],
      "execution_count": null,
      "outputs": []
    },
    {
      "cell_type": "code",
      "metadata": {
        "id": "1NpXsK9vrDAX"
      },
      "source": [
        "# Run object detection on 100 images\n",
        "# Get the bounding box cropped image and label\n",
        "# Pass this through ResNet to get the embeddings\n",
        "# Visialize these embeddings with tSNE"
      ],
      "execution_count": 1,
      "outputs": []
    },
    {
      "cell_type": "code",
      "metadata": {
        "id": "tSUR3BkexYt5"
      },
      "source": [
        "# Crop images based on grounding info\n",
        "# Pass this through ResNet and get embeddings\n",
        "# Visialuize with tSNE"
      ],
      "execution_count": null,
      "outputs": []
    }
  ]
}