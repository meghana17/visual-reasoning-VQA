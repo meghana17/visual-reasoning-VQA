{
 "cells": [
  {
   "cell_type": "code",
   "execution_count": 1,
   "metadata": {},
   "outputs": [],
   "source": [
    "import json"
   ]
  },
  {
   "cell_type": "code",
   "execution_count": 2,
   "metadata": {},
   "outputs": [],
   "source": [
    "f = open('dataset_v7w_telling.json')\n",
    "data = json.load(f)\n",
    "f.close()"
   ]
  },
  {
   "cell_type": "markdown",
   "metadata": {},
   "source": [
    "# Description of data\n",
    "\n",
    "data = dict of len(3), 'images' 'version' 'dataset'\n",
    "\n",
    "data['images'] = list of len(num_images)\n",
    "\n",
    "data['images'][i] = dict of len(4), 'qa_pairs' 'image_id' 'split' 'filename'\n",
    "\n",
    "data['images'][i]['qa_pairs'] = list of len(num_questions)\n",
    "\n",
    "data['images'][i]['qa_pairs'][i] = dict of len(6), 'image_id' 'question' 'multiple_choices' 'qa_id' 'answer' 'type'\n",
    "\n",
    "data['images'][i]['qa_pairs'][i]['multiple_choices'] = list of len(3), the three wrong answers\n",
    "\n",
    "data['images'][i]['qa_pairs'][i]['type'] = one of the 7w"
   ]
  },
  {
   "cell_type": "code",
   "execution_count": 36,
   "metadata": {},
   "outputs": [],
   "source": [
    "def get_questions(image_id):\n",
    "    for image in data['images']:\n",
    "        if image['image_id'] == image_id:\n",
    "            print(f'Total Questions: {len(image[\"qa_pairs\"])}\\n')\n",
    "            for i,qa_pair in enumerate(image['qa_pairs']):\n",
    "                print(f'Question {i+1}:')\n",
    "                print(f'Question: {qa_pair[\"question\"]}')\n",
    "                print(f'Correct answer: {qa_pair[\"answer\"]}')\n",
    "                print('Incorrect answers:', end=' ')\n",
    "                print(*qa_pair[\"multiple_choices\"], sep=' ')\n",
    "                print()\n",
    "            continue"
   ]
  },
  {
   "cell_type": "code",
   "execution_count": 65,
   "metadata": {},
   "outputs": [
    {
     "name": "stdout",
     "output_type": "stream",
     "text": [
      "Total Questions: 12\n",
      "\n",
      "Question 1:\n",
      "Question: How is the man positioned?\n",
      "Correct answer: With his back to the camera.\n",
      "Incorrect answers: With his feet up on the desk. With his hands covering his face. Under the table.\n",
      "\n",
      "Question 2:\n",
      "Question: Who is using the other computer in the room?\n",
      "Correct answer: Nobody.\n",
      "Incorrect answers: The professor. An older man. A teenage student.\n",
      "\n",
      "Question 3:\n",
      "Question: When was this picture taken?\n",
      "Correct answer: While the man was working.\n",
      "Incorrect answers: While the man was taking a break from work. When the man wasn't looking. When the man was smiling and relaxed.\n",
      "\n",
      "Question 4:\n",
      "Question: Why does the second computer have fish on the screen?\n",
      "Correct answer: Its screen saver is running.\n",
      "Incorrect answers: Someone was playing a game involving fish. The woman using it is a diver. Because it's the home page of the aquarium.\n",
      "\n",
      "Question 5:\n",
      "Question: Where is the man working?\n",
      "Correct answer: In an office or study room of some sort.\n",
      "Incorrect answers: Out back by the pool. In the garage. On the roof.\n",
      "\n",
      "Question 6:\n",
      "Question: How many CPU towers are there?\n",
      "Correct answer: Two.\n",
      "Incorrect answers: Three. Four. Five.\n",
      "\n",
      "Question 7:\n",
      "Question: What is on the bookshelf?\n",
      "Correct answer: Books.\n",
      "Incorrect answers: Small plant. Picture frame. Book ends.\n",
      "\n",
      "Question 8:\n",
      "Question: What color is the jacket?\n",
      "Correct answer: Red and blue.\n",
      "Incorrect answers: Yellow. Black. Orange.\n",
      "\n",
      "Question 9:\n",
      "Question: Where is the bookshelf?\n",
      "Correct answer: Against the wall.\n",
      "Incorrect answers: Near the bookshelf. Near the TV. In the living room.\n",
      "\n",
      "Question 10:\n",
      "Question: Where are the wires?\n",
      "Correct answer: Under the table.\n",
      "Incorrect answers: Along the wall. Behind the desk. Under the entertainment center.\n",
      "\n",
      "Question 11:\n",
      "Question: Where is the toy ostrich?\n",
      "Correct answer: Bookshelf.\n",
      "Incorrect answers: Toybox. Childs lap. Playpen.\n",
      "\n",
      "Question 12:\n",
      "Question: What is cluttered?\n",
      "Correct answer: The table.\n",
      "Incorrect answers: The kitchen counter. The laundry room. The closet.\n",
      "\n"
     ]
    }
   ],
   "source": [
    "get_questions(10)"
   ]
  },
  {
   "cell_type": "markdown",
   "metadata": {},
   "source": [
    "# "
   ]
  }
 ],
 "metadata": {
  "kernelspec": {
   "display_name": "Python 3",
   "language": "python",
   "name": "python3"
  },
  "language_info": {
   "codemirror_mode": {
    "name": "ipython",
    "version": 3
   },
   "file_extension": ".py",
   "mimetype": "text/x-python",
   "name": "python",
   "nbconvert_exporter": "python",
   "pygments_lexer": "ipython3",
   "version": "3.7.3"
  }
 },
 "nbformat": 4,
 "nbformat_minor": 2
}
