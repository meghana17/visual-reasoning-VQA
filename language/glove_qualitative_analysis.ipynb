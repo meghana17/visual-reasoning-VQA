{
  "nbformat": 4,
  "nbformat_minor": 0,
  "metadata": {
    "colab": {
      "name": "glove_qualitative_analysis.ipynb",
      "provenance": [],
      "collapsed_sections": []
    },
    "kernelspec": {
      "name": "python3",
      "display_name": "Python 3"
    },
    "language_info": {
      "name": "python"
    }
  },
  "cells": [
    {
      "cell_type": "code",
      "metadata": {
        "id": "vybyOf13qZoA"
      },
      "source": [
        "##setting environment"
      ],
      "execution_count": 1,
      "outputs": []
    },
    {
      "cell_type": "code",
      "metadata": {
        "colab": {
          "base_uri": "https://localhost:8080/"
        },
        "id": "nB6G8FLDuCPj",
        "outputId": "6a8e3735-cd32-458d-ddeb-54884d9a2a67"
      },
      "source": [
        "from google.colab import drive\n",
        "\n",
        "drive.mount('/content/gdrive')"
      ],
      "execution_count": 2,
      "outputs": [
        {
          "output_type": "stream",
          "name": "stdout",
          "text": [
            "Mounted at /content/gdrive\n"
          ]
        }
      ]
    },
    {
      "cell_type": "code",
      "metadata": {
        "id": "ICZjfj_iuEhy"
      },
      "source": [
        "import os\n",
        "os.chdir('/content/gdrive/MyDrive/11777_hws/project/github/11777-Project/')"
      ],
      "execution_count": 3,
      "outputs": []
    },
    {
      "cell_type": "code",
      "metadata": {
        "colab": {
          "base_uri": "https://localhost:8080/"
        },
        "id": "nPicw0QIvBEH",
        "outputId": "3abfa2bc-be57-4113-f586-4380357e44ba"
      },
      "source": [
        "!ls"
      ],
      "execution_count": 4,
      "outputs": [
        {
          "output_type": "stream",
          "name": "stdout",
          "text": [
            "all_emb.txt\tdata\t     meta.txt\t\t  README.md\n",
            "answer_emb.txt\tfile1.txt    qualitative_samples  tsne_answers.png\n",
            "answers.png\tget_data.sh  question_emb.txt\t  tsne_questions.png\n",
            "common\t\tlanguage     questions.png\t  vec.txt\n"
          ]
        }
      ]
    },
    {
      "cell_type": "code",
      "metadata": {
        "id": "D8qe2NDAMfH1",
        "colab": {
          "base_uri": "https://localhost:8080/"
        },
        "outputId": "9f9be77e-b9e6-4359-8fbf-cfbe23207ea1"
      },
      "source": [
        "!pip install flair"
      ],
      "execution_count": 5,
      "outputs": [
        {
          "output_type": "stream",
          "name": "stdout",
          "text": [
            "Collecting flair\n",
            "  Downloading flair-0.9-py3-none-any.whl (319 kB)\n",
            "\u001b[?25l\r\u001b[K     |█                               | 10 kB 20.3 MB/s eta 0:00:01\r\u001b[K     |██                              | 20 kB 24.9 MB/s eta 0:00:01\r\u001b[K     |███                             | 30 kB 26.6 MB/s eta 0:00:01\r\u001b[K     |████                            | 40 kB 29.0 MB/s eta 0:00:01\r\u001b[K     |█████▏                          | 51 kB 30.7 MB/s eta 0:00:01\r\u001b[K     |██████▏                         | 61 kB 31.6 MB/s eta 0:00:01\r\u001b[K     |███████▏                        | 71 kB 31.1 MB/s eta 0:00:01\r\u001b[K     |████████▏                       | 81 kB 31.7 MB/s eta 0:00:01\r\u001b[K     |█████████▎                      | 92 kB 32.8 MB/s eta 0:00:01\r\u001b[K     |██████████▎                     | 102 kB 32.4 MB/s eta 0:00:01\r\u001b[K     |███████████▎                    | 112 kB 32.4 MB/s eta 0:00:01\r\u001b[K     |████████████▎                   | 122 kB 32.4 MB/s eta 0:00:01\r\u001b[K     |█████████████▍                  | 133 kB 32.4 MB/s eta 0:00:01\r\u001b[K     |██████████████▍                 | 143 kB 32.4 MB/s eta 0:00:01\r\u001b[K     |███████████████▍                | 153 kB 32.4 MB/s eta 0:00:01\r\u001b[K     |████████████████▍               | 163 kB 32.4 MB/s eta 0:00:01\r\u001b[K     |█████████████████▌              | 174 kB 32.4 MB/s eta 0:00:01\r\u001b[K     |██████████████████▌             | 184 kB 32.4 MB/s eta 0:00:01\r\u001b[K     |███████████████████▌            | 194 kB 32.4 MB/s eta 0:00:01\r\u001b[K     |████████████████████▌           | 204 kB 32.4 MB/s eta 0:00:01\r\u001b[K     |█████████████████████▌          | 215 kB 32.4 MB/s eta 0:00:01\r\u001b[K     |██████████████████████▋         | 225 kB 32.4 MB/s eta 0:00:01\r\u001b[K     |███████████████████████▋        | 235 kB 32.4 MB/s eta 0:00:01\r\u001b[K     |████████████████████████▋       | 245 kB 32.4 MB/s eta 0:00:01\r\u001b[K     |█████████████████████████▋      | 256 kB 32.4 MB/s eta 0:00:01\r\u001b[K     |██████████████████████████▊     | 266 kB 32.4 MB/s eta 0:00:01\r\u001b[K     |███████████████████████████▊    | 276 kB 32.4 MB/s eta 0:00:01\r\u001b[K     |████████████████████████████▊   | 286 kB 32.4 MB/s eta 0:00:01\r\u001b[K     |█████████████████████████████▊  | 296 kB 32.4 MB/s eta 0:00:01\r\u001b[K     |██████████████████████████████▉ | 307 kB 32.4 MB/s eta 0:00:01\r\u001b[K     |███████████████████████████████▉| 317 kB 32.4 MB/s eta 0:00:01\r\u001b[K     |████████████████████████████████| 319 kB 32.4 MB/s \n",
            "\u001b[?25hRequirement already satisfied: matplotlib>=2.2.3 in /usr/local/lib/python3.7/dist-packages (from flair) (3.2.2)\n",
            "Collecting sentencepiece==0.1.95\n",
            "  Downloading sentencepiece-0.1.95-cp37-cp37m-manylinux2014_x86_64.whl (1.2 MB)\n",
            "\u001b[K     |████████████████████████████████| 1.2 MB 35.4 MB/s \n",
            "\u001b[?25hCollecting konoha<5.0.0,>=4.0.0\n",
            "  Downloading konoha-4.6.5-py3-none-any.whl (20 kB)\n",
            "Collecting conllu>=4.0\n",
            "  Downloading conllu-4.4.1-py2.py3-none-any.whl (15 kB)\n",
            "Collecting janome\n",
            "  Downloading Janome-0.4.1-py2.py3-none-any.whl (19.7 MB)\n",
            "\u001b[K     |████████████████████████████████| 19.7 MB 3.5 MB/s \n",
            "\u001b[?25hCollecting sqlitedict>=1.6.0\n",
            "  Downloading sqlitedict-1.7.0.tar.gz (28 kB)\n",
            "Collecting huggingface-hub\n",
            "  Downloading huggingface_hub-0.0.19-py3-none-any.whl (56 kB)\n",
            "\u001b[K     |████████████████████████████████| 56 kB 4.5 MB/s \n",
            "\u001b[?25hCollecting bpemb>=0.3.2\n",
            "  Downloading bpemb-0.3.3-py3-none-any.whl (19 kB)\n",
            "Collecting more-itertools~=8.8.0\n",
            "  Downloading more_itertools-8.8.0-py3-none-any.whl (48 kB)\n",
            "\u001b[K     |████████████████████████████████| 48 kB 4.8 MB/s \n",
            "\u001b[?25hRequirement already satisfied: tabulate in /usr/local/lib/python3.7/dist-packages (from flair) (0.8.9)\n",
            "Collecting deprecated>=1.2.4\n",
            "  Downloading Deprecated-1.2.13-py2.py3-none-any.whl (9.6 kB)\n",
            "Requirement already satisfied: python-dateutil>=2.6.1 in /usr/local/lib/python3.7/dist-packages (from flair) (2.8.2)\n",
            "Collecting mpld3==0.3\n",
            "  Downloading mpld3-0.3.tar.gz (788 kB)\n",
            "\u001b[K     |████████████████████████████████| 788 kB 34.7 MB/s \n",
            "\u001b[?25hRequirement already satisfied: tqdm>=4.26.0 in /usr/local/lib/python3.7/dist-packages (from flair) (4.62.3)\n",
            "Collecting transformers>=4.0.0\n",
            "  Downloading transformers-4.11.3-py3-none-any.whl (2.9 MB)\n",
            "\u001b[K     |████████████████████████████████| 2.9 MB 49.7 MB/s \n",
            "\u001b[?25hCollecting segtok>=1.5.7\n",
            "  Downloading segtok-1.5.10.tar.gz (25 kB)\n",
            "Collecting wikipedia-api\n",
            "  Downloading Wikipedia-API-0.5.4.tar.gz (18 kB)\n",
            "Requirement already satisfied: scikit-learn>=0.21.3 in /usr/local/lib/python3.7/dist-packages (from flair) (0.22.2.post1)\n",
            "Collecting langdetect\n",
            "  Downloading langdetect-1.0.9.tar.gz (981 kB)\n",
            "\u001b[K     |████████████████████████████████| 981 kB 32.6 MB/s \n",
            "\u001b[?25hRequirement already satisfied: lxml in /usr/local/lib/python3.7/dist-packages (from flair) (4.2.6)\n",
            "Collecting ftfy\n",
            "  Downloading ftfy-6.0.3.tar.gz (64 kB)\n",
            "\u001b[K     |████████████████████████████████| 64 kB 2.9 MB/s \n",
            "\u001b[?25hCollecting gdown==3.12.2\n",
            "  Downloading gdown-3.12.2.tar.gz (8.2 kB)\n",
            "  Installing build dependencies ... \u001b[?25l\u001b[?25hdone\n",
            "  Getting requirements to build wheel ... \u001b[?25l\u001b[?25hdone\n",
            "    Preparing wheel metadata ... \u001b[?25l\u001b[?25hdone\n",
            "Requirement already satisfied: hyperopt>=0.1.1 in /usr/local/lib/python3.7/dist-packages (from flair) (0.1.2)\n",
            "Requirement already satisfied: gensim<=3.8.3,>=3.4.0 in /usr/local/lib/python3.7/dist-packages (from flair) (3.6.0)\n",
            "Requirement already satisfied: torch!=1.8,>=1.5.0 in /usr/local/lib/python3.7/dist-packages (from flair) (1.9.0+cu111)\n",
            "Requirement already satisfied: regex in /usr/local/lib/python3.7/dist-packages (from flair) (2019.12.20)\n",
            "Requirement already satisfied: requests[socks] in /usr/local/lib/python3.7/dist-packages (from gdown==3.12.2->flair) (2.23.0)\n",
            "Requirement already satisfied: filelock in /usr/local/lib/python3.7/dist-packages (from gdown==3.12.2->flair) (3.3.0)\n",
            "Requirement already satisfied: six in /usr/local/lib/python3.7/dist-packages (from gdown==3.12.2->flair) (1.15.0)\n",
            "Requirement already satisfied: numpy in /usr/local/lib/python3.7/dist-packages (from bpemb>=0.3.2->flair) (1.19.5)\n",
            "Requirement already satisfied: wrapt<2,>=1.10 in /usr/local/lib/python3.7/dist-packages (from deprecated>=1.2.4->flair) (1.12.1)\n",
            "Requirement already satisfied: scipy>=0.18.1 in /usr/local/lib/python3.7/dist-packages (from gensim<=3.8.3,>=3.4.0->flair) (1.4.1)\n",
            "Requirement already satisfied: smart-open>=1.2.1 in /usr/local/lib/python3.7/dist-packages (from gensim<=3.8.3,>=3.4.0->flair) (5.2.1)\n",
            "Requirement already satisfied: networkx in /usr/local/lib/python3.7/dist-packages (from hyperopt>=0.1.1->flair) (2.6.3)\n",
            "Requirement already satisfied: future in /usr/local/lib/python3.7/dist-packages (from hyperopt>=0.1.1->flair) (0.16.0)\n",
            "Requirement already satisfied: pymongo in /usr/local/lib/python3.7/dist-packages (from hyperopt>=0.1.1->flair) (3.12.0)\n",
            "Collecting importlib-metadata<4.0.0,>=3.7.0\n",
            "  Downloading importlib_metadata-3.10.1-py3-none-any.whl (14 kB)\n",
            "Collecting overrides<4.0.0,>=3.0.0\n",
            "  Downloading overrides-3.1.0.tar.gz (11 kB)\n",
            "Collecting requests\n",
            "  Downloading requests-2.26.0-py2.py3-none-any.whl (62 kB)\n",
            "\u001b[K     |████████████████████████████████| 62 kB 938 kB/s \n",
            "\u001b[?25hRequirement already satisfied: typing-extensions>=3.6.4 in /usr/local/lib/python3.7/dist-packages (from importlib-metadata<4.0.0,>=3.7.0->konoha<5.0.0,>=4.0.0->flair) (3.7.4.3)\n",
            "Requirement already satisfied: zipp>=0.5 in /usr/local/lib/python3.7/dist-packages (from importlib-metadata<4.0.0,>=3.7.0->konoha<5.0.0,>=4.0.0->flair) (3.6.0)\n",
            "Requirement already satisfied: pyparsing!=2.0.4,!=2.1.2,!=2.1.6,>=2.0.1 in /usr/local/lib/python3.7/dist-packages (from matplotlib>=2.2.3->flair) (2.4.7)\n",
            "Requirement already satisfied: cycler>=0.10 in /usr/local/lib/python3.7/dist-packages (from matplotlib>=2.2.3->flair) (0.10.0)\n",
            "Requirement already satisfied: kiwisolver>=1.0.1 in /usr/local/lib/python3.7/dist-packages (from matplotlib>=2.2.3->flair) (1.3.2)\n",
            "Requirement already satisfied: charset-normalizer~=2.0.0 in /usr/local/lib/python3.7/dist-packages (from requests->bpemb>=0.3.2->flair) (2.0.6)\n",
            "Requirement already satisfied: idna<4,>=2.5 in /usr/local/lib/python3.7/dist-packages (from requests->bpemb>=0.3.2->flair) (2.10)\n",
            "Requirement already satisfied: certifi>=2017.4.17 in /usr/local/lib/python3.7/dist-packages (from requests->bpemb>=0.3.2->flair) (2021.5.30)\n",
            "Requirement already satisfied: urllib3<1.27,>=1.21.1 in /usr/local/lib/python3.7/dist-packages (from requests->bpemb>=0.3.2->flair) (1.24.3)\n",
            "Requirement already satisfied: joblib>=0.11 in /usr/local/lib/python3.7/dist-packages (from scikit-learn>=0.21.3->flair) (1.0.1)\n",
            "Collecting tokenizers<0.11,>=0.10.1\n",
            "  Downloading tokenizers-0.10.3-cp37-cp37m-manylinux_2_5_x86_64.manylinux1_x86_64.manylinux_2_12_x86_64.manylinux2010_x86_64.whl (3.3 MB)\n",
            "\u001b[K     |████████████████████████████████| 3.3 MB 58.3 MB/s \n",
            "\u001b[?25hCollecting sacremoses\n",
            "  Downloading sacremoses-0.0.46-py3-none-any.whl (895 kB)\n",
            "\u001b[K     |████████████████████████████████| 895 kB 48.8 MB/s \n",
            "\u001b[?25hRequirement already satisfied: packaging>=20.0 in /usr/local/lib/python3.7/dist-packages (from transformers>=4.0.0->flair) (21.0)\n",
            "Collecting pyyaml>=5.1\n",
            "  Downloading PyYAML-5.4.1-cp37-cp37m-manylinux1_x86_64.whl (636 kB)\n",
            "\u001b[K     |████████████████████████████████| 636 kB 45.2 MB/s \n",
            "\u001b[?25hRequirement already satisfied: wcwidth in /usr/local/lib/python3.7/dist-packages (from ftfy->flair) (0.2.5)\n",
            "Requirement already satisfied: PySocks!=1.5.7,>=1.5.6 in /usr/local/lib/python3.7/dist-packages (from requests->bpemb>=0.3.2->flair) (1.7.1)\n",
            "Requirement already satisfied: click in /usr/local/lib/python3.7/dist-packages (from sacremoses->transformers>=4.0.0->flair) (7.1.2)\n",
            "Building wheels for collected packages: gdown, mpld3, overrides, segtok, sqlitedict, ftfy, langdetect, wikipedia-api\n",
            "  Building wheel for gdown (PEP 517) ... \u001b[?25l\u001b[?25hdone\n",
            "  Created wheel for gdown: filename=gdown-3.12.2-py3-none-any.whl size=9704 sha256=e2c651de994a7a781450f8ff8554b1417825201e0bb211350baeb6e712ed169e\n",
            "  Stored in directory: /root/.cache/pip/wheels/ba/e0/7e/726e872a53f7358b4b96a9975b04e98113b005cd8609a63abc\n",
            "  Building wheel for mpld3 (setup.py) ... \u001b[?25l\u001b[?25hdone\n",
            "  Created wheel for mpld3: filename=mpld3-0.3-py3-none-any.whl size=116702 sha256=83806c127aa545e93b5cc23beafb08539e63071965decfc9eb6f3dc967cd3129\n",
            "  Stored in directory: /root/.cache/pip/wheels/26/70/6a/1c79e59951a41b4045497da187b2724f5659ca64033cf4548e\n",
            "  Building wheel for overrides (setup.py) ... \u001b[?25l\u001b[?25hdone\n",
            "  Created wheel for overrides: filename=overrides-3.1.0-py3-none-any.whl size=10186 sha256=12b3fa45acb7d7a844fb84baacbba43c2becf350d700ce5ee734dd930e35f823\n",
            "  Stored in directory: /root/.cache/pip/wheels/3a/0d/38/01a9bc6e20dcfaf0a6a7b552d03137558ba1c38aea47644682\n",
            "  Building wheel for segtok (setup.py) ... \u001b[?25l\u001b[?25hdone\n",
            "  Created wheel for segtok: filename=segtok-1.5.10-py3-none-any.whl size=25030 sha256=e99ed81b1d3100be7e5dd85a101dc893a0f2c688cfa96f345874cabac5712609\n",
            "  Stored in directory: /root/.cache/pip/wheels/67/b7/d0/a121106e61339eee5ed083bc230b1c8dc422c49a5a28c2addd\n",
            "  Building wheel for sqlitedict (setup.py) ... \u001b[?25l\u001b[?25hdone\n",
            "  Created wheel for sqlitedict: filename=sqlitedict-1.7.0-py3-none-any.whl size=14392 sha256=51c55d560144bfac4eebdcc6eeda664f8f42d7cd26a9271337a1874763792098\n",
            "  Stored in directory: /root/.cache/pip/wheels/af/94/06/18c0e83e9e227da8f3582810b51f319bbfd181e508676a56c8\n",
            "  Building wheel for ftfy (setup.py) ... \u001b[?25l\u001b[?25hdone\n",
            "  Created wheel for ftfy: filename=ftfy-6.0.3-py3-none-any.whl size=41933 sha256=7fab707deea925a7ba0bcc213746b34eb77250315dd7b803e18d975f1a249651\n",
            "  Stored in directory: /root/.cache/pip/wheels/19/f5/38/273eb3b5e76dfd850619312f693716ac4518b498f5ffb6f56d\n",
            "  Building wheel for langdetect (setup.py) ... \u001b[?25l\u001b[?25hdone\n",
            "  Created wheel for langdetect: filename=langdetect-1.0.9-py3-none-any.whl size=993242 sha256=4c6fded9ca7aadc63b23932023638e8268ec4737ffe5e399b86330642bb255f6\n",
            "  Stored in directory: /root/.cache/pip/wheels/c5/96/8a/f90c59ed25d75e50a8c10a1b1c2d4c402e4dacfa87f3aff36a\n",
            "  Building wheel for wikipedia-api (setup.py) ... \u001b[?25l\u001b[?25hdone\n",
            "  Created wheel for wikipedia-api: filename=Wikipedia_API-0.5.4-py3-none-any.whl size=13475 sha256=ff8728d8b598c4b9813e4140de33373425e7594fc059b3cbcdf3039c72c88807\n",
            "  Stored in directory: /root/.cache/pip/wheels/d3/24/56/58ba93cf78be162451144e7a9889603f437976ef1ae7013d04\n",
            "Successfully built gdown mpld3 overrides segtok sqlitedict ftfy langdetect wikipedia-api\n",
            "Installing collected packages: requests, pyyaml, importlib-metadata, tokenizers, sentencepiece, sacremoses, overrides, huggingface-hub, wikipedia-api, transformers, sqlitedict, segtok, mpld3, more-itertools, langdetect, konoha, janome, gdown, ftfy, deprecated, conllu, bpemb, flair\n",
            "  Attempting uninstall: requests\n",
            "    Found existing installation: requests 2.23.0\n",
            "    Uninstalling requests-2.23.0:\n",
            "      Successfully uninstalled requests-2.23.0\n",
            "  Attempting uninstall: pyyaml\n",
            "    Found existing installation: PyYAML 3.13\n",
            "    Uninstalling PyYAML-3.13:\n",
            "      Successfully uninstalled PyYAML-3.13\n",
            "  Attempting uninstall: importlib-metadata\n",
            "    Found existing installation: importlib-metadata 4.8.1\n",
            "    Uninstalling importlib-metadata-4.8.1:\n",
            "      Successfully uninstalled importlib-metadata-4.8.1\n",
            "  Attempting uninstall: more-itertools\n",
            "    Found existing installation: more-itertools 8.10.0\n",
            "    Uninstalling more-itertools-8.10.0:\n",
            "      Successfully uninstalled more-itertools-8.10.0\n",
            "  Attempting uninstall: gdown\n",
            "    Found existing installation: gdown 3.6.4\n",
            "    Uninstalling gdown-3.6.4:\n",
            "      Successfully uninstalled gdown-3.6.4\n",
            "\u001b[31mERROR: pip's dependency resolver does not currently take into account all the packages that are installed. This behaviour is the source of the following dependency conflicts.\n",
            "google-colab 1.0.0 requires requests~=2.23.0, but you have requests 2.26.0 which is incompatible.\n",
            "datascience 0.10.6 requires folium==0.2.1, but you have folium 0.8.3 which is incompatible.\u001b[0m\n",
            "Successfully installed bpemb-0.3.3 conllu-4.4.1 deprecated-1.2.13 flair-0.9 ftfy-6.0.3 gdown-3.12.2 huggingface-hub-0.0.19 importlib-metadata-3.10.1 janome-0.4.1 konoha-4.6.5 langdetect-1.0.9 more-itertools-8.8.0 mpld3-0.3 overrides-3.1.0 pyyaml-5.4.1 requests-2.26.0 sacremoses-0.0.46 segtok-1.5.10 sentencepiece-0.1.95 sqlitedict-1.7.0 tokenizers-0.10.3 transformers-4.11.3 wikipedia-api-0.5.4\n"
          ]
        }
      ]
    },
    {
      "cell_type": "code",
      "metadata": {
        "id": "dljRfAt1_M5G"
      },
      "source": [
        "import numpy as np\n",
        "import matplotlib.pyplot as plt\n",
        "from sklearn.manifold import TSNE"
      ],
      "execution_count": 6,
      "outputs": []
    },
    {
      "cell_type": "code",
      "metadata": {
        "id": "vd_5hEBMNwlt",
        "colab": {
          "base_uri": "https://localhost:8080/"
        },
        "outputId": "439a0cda-9c47-4ae7-c9c6-a22cbff2161d"
      },
      "source": [
        "from flair.embeddings import WordEmbeddings, DocumentPoolEmbeddings\n",
        "from flair.data import *\n",
        "# initialize the word embeddings\n",
        "glove_embedding = WordEmbeddings('glove')\n",
        "\n",
        "# initialize the document embeddings, mode = mean\n",
        "document_embeddings = DocumentPoolEmbeddings([glove_embedding])"
      ],
      "execution_count": 7,
      "outputs": [
        {
          "output_type": "stream",
          "name": "stdout",
          "text": [
            "2021-10-10 20:16:13,578 https://flair.informatik.hu-berlin.de/resources/embeddings/token/glove.gensim.vectors.npy not found in cache, downloading to /tmp/tmp1_4khnxl\n"
          ]
        },
        {
          "output_type": "stream",
          "name": "stderr",
          "text": [
            "100%|██████████| 160000128/160000128 [00:06<00:00, 25614866.99B/s]"
          ]
        },
        {
          "output_type": "stream",
          "name": "stdout",
          "text": [
            "2021-10-10 20:16:20,149 copying /tmp/tmp1_4khnxl to cache at /root/.flair/embeddings/glove.gensim.vectors.npy\n"
          ]
        },
        {
          "output_type": "stream",
          "name": "stderr",
          "text": [
            "\n"
          ]
        },
        {
          "output_type": "stream",
          "name": "stdout",
          "text": [
            "2021-10-10 20:16:20,443 removing temp file /tmp/tmp1_4khnxl\n",
            "2021-10-10 20:16:21,134 https://flair.informatik.hu-berlin.de/resources/embeddings/token/glove.gensim not found in cache, downloading to /tmp/tmpji_r3vln\n"
          ]
        },
        {
          "output_type": "stream",
          "name": "stderr",
          "text": [
            "100%|██████████| 21494764/21494764 [00:01<00:00, 15009391.26B/s]"
          ]
        },
        {
          "output_type": "stream",
          "name": "stdout",
          "text": [
            "2021-10-10 20:16:22,880 copying /tmp/tmpji_r3vln to cache at /root/.flair/embeddings/glove.gensim\n",
            "2021-10-10 20:16:22,917 removing temp file /tmp/tmpji_r3vln\n"
          ]
        },
        {
          "output_type": "stream",
          "name": "stderr",
          "text": [
            "\n"
          ]
        }
      ]
    },
    {
      "cell_type": "code",
      "metadata": {
        "id": "YFGCUIFytinR"
      },
      "source": [
        "## sampling data for qualitative analysis"
      ],
      "execution_count": 8,
      "outputs": []
    },
    {
      "cell_type": "code",
      "metadata": {
        "id": "Haox3p69qwjL"
      },
      "source": [
        "from common.get_data import BasicDataProvider\n",
        "import os"
      ],
      "execution_count": 57,
      "outputs": []
    },
    {
      "cell_type": "code",
      "metadata": {
        "id": "jTzGZDviq7Eu"
      },
      "source": [
        "def sample_by_type(bdp, type_str, n=50):\n",
        "    if type_str not in ['what', 'why', 'how', 'who', 'when', 'where', 'which']:\n",
        "        raise AssertionError(\"Please provide only ['what', 'why', 'how', 'who', 'when', 'where', 'which'] for type_str\")\n",
        "    result = []\n",
        "    while len(result) < n:\n",
        "        sample = bdp.sampleImageQAPair()['qa_pair']\n",
        "        if sample['type'] == type_str:\n",
        "            result.append(sample)\n",
        "    return result\n"
      ],
      "execution_count": 58,
      "outputs": []
    },
    {
      "cell_type": "code",
      "metadata": {
        "id": "GPvWK9NDq88O"
      },
      "source": [
        "def write_W(questions, answers, type_str, path='qualitative_samples/'):\n",
        "    with open(os.path.join(path + '{}{}.txt'.format(type_str, len(questions))), 'w') as out:\n",
        "        for q, ans in zip(questions, answers):\n",
        "            out.write(q)\n",
        "            out.write('\\n')\n",
        "            for a in ans: # ans[0] is the true answer\n",
        "                out.write(str(a))\n",
        "                out.write('\\n')\n",
        "            out.write('\\n')\n"
      ],
      "execution_count": 59,
      "outputs": []
    },
    {
      "cell_type": "code",
      "metadata": {
        "colab": {
          "base_uri": "https://localhost:8080/"
        },
        "id": "4fDlAsTLrADI",
        "outputId": "b8bea4d1-febb-47f8-a664-717101cba541"
      },
      "source": [
        "bdp_6w = BasicDataProvider(dataset_root='../../datasets/visual7w-telling', \n",
        "                           dataset_name = 'dataset.json')\n",
        "bdp_which = BasicDataProvider(dataset_root='../../datasets/visual7w-pointing', \n",
        "                            dataset_name = 'dataset.json')\n",
        "sevenWs = ['what', 'why', 'how', 'who', 'when', 'where', 'which']"
      ],
      "execution_count": 60,
      "outputs": [
        {
          "output_type": "stream",
          "name": "stdout",
          "text": [
            "Initializing data provider for dataset dataset.json...\n",
            "BasicDataProvider: reading ../../datasets/visual7w-telling/dataset.json\n",
            "Initializing data provider for dataset dataset.json...\n",
            "BasicDataProvider: reading ../../datasets/visual7w-pointing/dataset.json\n"
          ]
        }
      ]
    },
    {
      "cell_type": "code",
      "metadata": {
        "id": "HAvcXdbMrF-L"
      },
      "source": [
        "sample_7Ws = []"
      ],
      "execution_count": 61,
      "outputs": []
    },
    {
      "cell_type": "code",
      "metadata": {
        "id": "fynfU-sirlrO"
      },
      "source": [
        "for type_str in sevenWs:\n",
        "        bdp = bdp_which if type_str == 'which' else bdp_6w\n",
        "        sample_7Ws.append(sample_by_type(bdp, type_str, 2))"
      ],
      "execution_count": 62,
      "outputs": []
    },
    {
      "cell_type": "code",
      "metadata": {
        "colab": {
          "base_uri": "https://localhost:8080/"
        },
        "id": "kf3BEOC6r65B",
        "outputId": "73c194c4-b840-4d47-b0c1-7d1fcbbd98e2"
      },
      "source": [
        "sample_7Ws"
      ],
      "execution_count": 63,
      "outputs": [
        {
          "output_type": "execute_result",
          "data": {
            "text/plain": [
              "[[{'answer': 'Trash can.',\n",
              "   'image_id': 2336775,\n",
              "   'multiple_choices': ['Boxes.', 'A footstool.', 'Payment.'],\n",
              "   'qa_id': 526155,\n",
              "   'question': 'What is under the table?',\n",
              "   'type': 'what'},\n",
              "  {'answer': 'Bronze.',\n",
              "   'image_id': 2358100,\n",
              "   'multiple_choices': ['White.', 'Black.', 'Grey.'],\n",
              "   'qa_id': 317168,\n",
              "   'question': 'What color is the car to the far right?',\n",
              "   'type': 'what'}],\n",
              " [{'answer': 'To fly a kite.',\n",
              "   'image_id': 2342065,\n",
              "   'multiple_choices': ['To sing.', 'To dance.', 'To act.'],\n",
              "   'qa_id': 841763,\n",
              "   'question': 'Why is the boy there?',\n",
              "   'type': 'why'},\n",
              "  {'answer': 'To fly a kite.',\n",
              "   'image_id': 2393443,\n",
              "   'multiple_choices': ['To enjoy the sunny weather.',\n",
              "    'To play a game.',\n",
              "    'To buy produce.'],\n",
              "   'qa_id': 224888,\n",
              "   'question': 'Why are they out there?',\n",
              "   'type': 'why'}],\n",
              " [{'answer': 'Two.',\n",
              "   'image_id': 2341428,\n",
              "   'multiple_choices': ['Six.', 'One.', 'Ten.'],\n",
              "   'qa_id': 650320,\n",
              "   'question': 'How many trees are there?',\n",
              "   'type': 'how'},\n",
              "  {'answer': 'One.',\n",
              "   'image_id': 2373031,\n",
              "   'multiple_choices': ['Three.', 'Two.', 'Zero.'],\n",
              "   'qa_id': 689017,\n",
              "   'question': 'How many people are riding bikes?',\n",
              "   'type': 'how'}],\n",
              " [{'answer': 'A woman.',\n",
              "   'image_id': 2368760,\n",
              "   'multiple_choices': ['The skier.', 'The cild.', 'The busdriver.'],\n",
              "   'qa_id': 302258,\n",
              "   'question': 'Who wearing the jacket?',\n",
              "   'type': 'who'},\n",
              "  {'answer': 'The man.',\n",
              "   'image_id': 2359713,\n",
              "   'multiple_choices': ['The boy.', 'The girl.', 'The children.'],\n",
              "   'qa_id': 571777,\n",
              "   'question': 'Who is wearing a dark blue shirt?',\n",
              "   'type': 'who'}],\n",
              " [{'answer': 'At a gathering.',\n",
              "   'image_id': 2322454,\n",
              "   'multiple_choices': ['Summer.', 'Spring.', 'At a birthday party.'],\n",
              "   'qa_id': 876714,\n",
              "   'question': 'When was the photo taken?',\n",
              "   'type': 'when'},\n",
              "  {'answer': 'After you use bathroom.',\n",
              "   'image_id': 2390268,\n",
              "   'multiple_choices': ['To blow your noise.',\n",
              "    'To wipe your behind.',\n",
              "    'To catch a spider.'],\n",
              "   'qa_id': 611247,\n",
              "   'question': 'When would you use the toilet paper?',\n",
              "   'type': 'when'}],\n",
              " [{'answer': 'In front of a clock.',\n",
              "   'image_id': 2332606,\n",
              "   'multiple_choices': ['At city hall.',\n",
              "    'At the courthouse.',\n",
              "    'At the church.'],\n",
              "   'qa_id': 981640,\n",
              "   'question': 'Where was the picture taken?',\n",
              "   'type': 'where'},\n",
              "  {'answer': 'Baseball field.',\n",
              "   'image_id': 2370452,\n",
              "   'multiple_choices': ['Soccer field.', 'Skating rink.', 'A lake.'],\n",
              "   'qa_id': 563188,\n",
              "   'question': 'Where are the players playing?',\n",
              "   'type': 'where'}],\n",
              " [{'answer': 381627,\n",
              "   'multiple_choices': [381645, 381647, 381643],\n",
              "   'qa_id': 175876,\n",
              "   'question': 'Which is the messiest part of the image?',\n",
              "   'type': 'which'},\n",
              "  {'answer': 990423,\n",
              "   'multiple_choices': [990430, 990424, 990427],\n",
              "   'qa_id': 295705,\n",
              "   'question': 'Which part of the traffic pole has the yield on green sign?',\n",
              "   'type': 'which'}]]"
            ]
          },
          "metadata": {},
          "execution_count": 63
        }
      ]
    },
    {
      "cell_type": "code",
      "metadata": {
        "id": "-99B6_fusa5V"
      },
      "source": [
        "sample_7Ws_questions = []\n",
        "sample_7Ws_answers = []\n",
        "for sample_W in sample_7Ws:\n",
        "  questions = [x['question'] for x in sample_W]\n",
        "  # Grab answers as [true_ans, false_ans1, false_ans2, false_ans3]\n",
        "  answers = [[x['answer']] + x['multiple_choices'] for x in sample_W]\n",
        "  sample_7Ws_questions.append(questions)\n",
        "  sample_7Ws_answers.append(answers)\n",
        "  # Output each W's questions to a text file\n",
        "  for questions, answers, w_type in zip(sample_7Ws_questions, sample_7Ws_answers, sevenWs):\n",
        "        write_W(questions, answers, w_type)\n"
      ],
      "execution_count": 64,
      "outputs": []
    },
    {
      "cell_type": "code",
      "metadata": {
        "id": "rE_WVFVGtsMy"
      },
      "source": [
        "## embeddings for sampled data"
      ],
      "execution_count": 65,
      "outputs": []
    },
    {
      "cell_type": "code",
      "metadata": {
        "id": "qPUZgtmNSA7n"
      },
      "source": [
        "def read_samples(path, n=20):\n",
        "    questions, true_ans, false_ans = [], [], []\n",
        "    with open(path, 'r') as f:\n",
        "        for i, line in enumerate(f):\n",
        "            if i % 6 == 0:\n",
        "                questions.append(line.rstrip())\n",
        "            elif i % 6 == 1:\n",
        "                true_ans.append(line.rstrip())\n",
        "            elif i % 6 == 2:\n",
        "                false_ans.append(line.rstrip())\n",
        "            if len(false_ans) >= n:\n",
        "                break\n",
        "    return questions, true_ans, false_ans\n",
        "\n",
        "\n"
      ],
      "execution_count": 66,
      "outputs": []
    },
    {
      "cell_type": "code",
      "metadata": {
        "id": "kXtx70HeSDAZ"
      },
      "source": [
        "def get_glove_embedding(question):\n",
        "  sentence = Sentence(question)\n",
        "  document_embeddings.embed(sentence)\n",
        "  sentence_embedding= sentence.embedding.numpy()\n",
        "  return sentence_embedding"
      ],
      "execution_count": 67,
      "outputs": []
    },
    {
      "cell_type": "code",
      "metadata": {
        "id": "KJEAJkdsSkzx"
      },
      "source": [
        "categories = ['what', 'why', 'how', 'who', 'when', 'where', 'which']"
      ],
      "execution_count": 68,
      "outputs": []
    },
    {
      "cell_type": "code",
      "metadata": {
        "id": "D2c0k8jxSkw0"
      },
      "source": [
        "questions_all = []\n",
        "true_answers_all = []\n",
        "false_answers_all = []"
      ],
      "execution_count": 69,
      "outputs": []
    },
    {
      "cell_type": "code",
      "metadata": {
        "id": "bCKR8-neSqn_"
      },
      "source": [
        " for type_str in categories:\n",
        "    path = os.path.join('qualitative_samples/', type_str + '2.txt')\n",
        "    questions, true_ans, false_ans = read_samples(path)\n",
        "    questions_all.append(questions)\n",
        "    true_answers_all.append(true_ans)\n",
        "    false_answers_all.append(false_ans)\n",
        "\n"
      ],
      "execution_count": 70,
      "outputs": []
    },
    {
      "cell_type": "code",
      "metadata": {
        "colab": {
          "base_uri": "https://localhost:8080/"
        },
        "id": "OnqMaxLoTUwt",
        "outputId": "c0e68b6c-46d5-4b8e-a0bd-a750cc85d07f"
      },
      "source": [
        "questions_all[0][-1], true_answers_all[0][-1], false_answers_all[0][-1]"
      ],
      "execution_count": 71,
      "outputs": [
        {
          "output_type": "execute_result",
          "data": {
            "text/plain": [
              "('What color is the car to the far right?', 'Bronze.', 'White.')"
            ]
          },
          "metadata": {},
          "execution_count": 71
        }
      ]
    },
    {
      "cell_type": "code",
      "metadata": {
        "id": "Hjtlr5wxTbB7"
      },
      "source": [
        "questions_embeddings = [[get_glove_embedding(q) for q in questions] for questions in questions_all]\n",
        "true_answers_embeddings = [[get_glove_embedding(ta) for ta in true_answers] for true_answers in true_answers_all]\n",
        "false_answers_embeddings = [[get_glove_embedding(fa) for fa in false_answers] for false_answers in false_answers_all]"
      ],
      "execution_count": 72,
      "outputs": []
    },
    {
      "cell_type": "code",
      "metadata": {
        "id": "QiF5q20tTa-z"
      },
      "source": [
        "true_embed_all = np.vstack(true_answers_embeddings)\n",
        "false_embed_all = np.vstack(false_answers_embeddings)"
      ],
      "execution_count": 73,
      "outputs": []
    },
    {
      "cell_type": "code",
      "metadata": {
        "colab": {
          "base_uri": "https://localhost:8080/"
        },
        "id": "MMsKolhVY9Di",
        "outputId": "f96de2a6-e4eb-4145-d9da-f83d482a1bb4"
      },
      "source": [
        "true_embed_all.shape, false_embed_all.shape\n"
      ],
      "execution_count": 74,
      "outputs": [
        {
          "output_type": "execute_result",
          "data": {
            "text/plain": [
              "((14, 100), (14, 100))"
            ]
          },
          "metadata": {},
          "execution_count": 74
        }
      ]
    },
    {
      "cell_type": "code",
      "metadata": {
        "id": "ByIE0wb4Ta6a"
      },
      "source": [
        "ans_embed_all = np.vstack((true_embed_all, false_embed_all))"
      ],
      "execution_count": 75,
      "outputs": []
    },
    {
      "cell_type": "code",
      "metadata": {
        "colab": {
          "base_uri": "https://localhost:8080/"
        },
        "id": "hzZDetkywCHw",
        "outputId": "e3f0f588-7b05-4ee4-bfbe-e79c1722dcd1"
      },
      "source": [
        "ans_embed_all.shape"
      ],
      "execution_count": 76,
      "outputs": [
        {
          "output_type": "execute_result",
          "data": {
            "text/plain": [
              "(28, 100)"
            ]
          },
          "metadata": {},
          "execution_count": 76
        }
      ]
    },
    {
      "cell_type": "code",
      "metadata": {
        "id": "RjtlHItCLuOG"
      },
      "source": [
        "questions_embed_all = np.vstack(questions_embeddings)"
      ],
      "execution_count": 77,
      "outputs": []
    },
    {
      "cell_type": "code",
      "metadata": {
        "colab": {
          "base_uri": "https://localhost:8080/"
        },
        "id": "OK0SVDIOLuJR",
        "outputId": "c95e09ff-6bf0-485e-9855-ae2938c6fb36"
      },
      "source": [
        "questions_embed_all.shape"
      ],
      "execution_count": 78,
      "outputs": [
        {
          "output_type": "execute_result",
          "data": {
            "text/plain": [
              "(14, 100)"
            ]
          },
          "metadata": {},
          "execution_count": 78
        }
      ]
    },
    {
      "cell_type": "code",
      "metadata": {
        "id": "Omq3qHxxLuGA"
      },
      "source": [
        "import matplotlib.pyplot as plt\n",
        "from sklearn.manifold import TSNE"
      ],
      "execution_count": 79,
      "outputs": []
    },
    {
      "cell_type": "code",
      "metadata": {
        "id": "U9w5lox9LzIu"
      },
      "source": [
        "tsne = TSNE(n_components=2, init='random', random_state=0)\n",
        "features = tsne.fit_transform(questions_embed_all)"
      ],
      "execution_count": 80,
      "outputs": []
    },
    {
      "cell_type": "code",
      "metadata": {
        "colab": {
          "base_uri": "https://localhost:8080/"
        },
        "id": "gdkwSKYtLzE7",
        "outputId": "efe12df9-56c7-4206-959b-18d1828887e2"
      },
      "source": [
        "features[:20].shape"
      ],
      "execution_count": 81,
      "outputs": [
        {
          "output_type": "execute_result",
          "data": {
            "text/plain": [
              "(14, 2)"
            ]
          },
          "metadata": {},
          "execution_count": 81
        }
      ]
    },
    {
      "cell_type": "code",
      "metadata": {
        "id": "6QhyozxQL8f1"
      },
      "source": [
        "labels = np.repeat([0, 1, 2, 3, 4, 5, 6], 2)"
      ],
      "execution_count": 82,
      "outputs": []
    },
    {
      "cell_type": "code",
      "metadata": {
        "colab": {
          "base_uri": "https://localhost:8080/"
        },
        "id": "JpENQQjBL8cV",
        "outputId": "93305546-2447-481b-f488-9cccf11664a6"
      },
      "source": [
        "labels"
      ],
      "execution_count": 83,
      "outputs": [
        {
          "output_type": "execute_result",
          "data": {
            "text/plain": [
              "array([0, 0, 1, 1, 2, 2, 3, 3, 4, 4, 5, 5, 6, 6])"
            ]
          },
          "metadata": {},
          "execution_count": 83
        }
      ]
    },
    {
      "cell_type": "code",
      "metadata": {
        "id": "0ZZ0HgHCMCTW"
      },
      "source": [
        "import pandas as pd\n",
        "df = pd.DataFrame(labels, columns=['y'])"
      ],
      "execution_count": 84,
      "outputs": []
    },
    {
      "cell_type": "code",
      "metadata": {
        "id": "6yrWwPLgMCOY"
      },
      "source": [
        "colors = ['red', 'black', 'blue', 'yellow', 'green', 'orange', 'brown']"
      ],
      "execution_count": 85,
      "outputs": []
    },
    {
      "cell_type": "code",
      "metadata": {
        "id": "1VFlErCnMIyD"
      },
      "source": [
        "df['tsne1'] = features[:, 0]\n",
        "df['tsne2'] = features[:, 1]"
      ],
      "execution_count": 86,
      "outputs": []
    },
    {
      "cell_type": "code",
      "metadata": {
        "colab": {
          "base_uri": "https://localhost:8080/",
          "height": 489
        },
        "id": "rwMXd2ZsMItv",
        "outputId": "0d505335-a989-46b7-b23e-bd439dd52d9a"
      },
      "source": [
        "df"
      ],
      "execution_count": 87,
      "outputs": [
        {
          "output_type": "execute_result",
          "data": {
            "text/html": [
              "<div>\n",
              "<style scoped>\n",
              "    .dataframe tbody tr th:only-of-type {\n",
              "        vertical-align: middle;\n",
              "    }\n",
              "\n",
              "    .dataframe tbody tr th {\n",
              "        vertical-align: top;\n",
              "    }\n",
              "\n",
              "    .dataframe thead th {\n",
              "        text-align: right;\n",
              "    }\n",
              "</style>\n",
              "<table border=\"1\" class=\"dataframe\">\n",
              "  <thead>\n",
              "    <tr style=\"text-align: right;\">\n",
              "      <th></th>\n",
              "      <th>y</th>\n",
              "      <th>tsne1</th>\n",
              "      <th>tsne2</th>\n",
              "    </tr>\n",
              "  </thead>\n",
              "  <tbody>\n",
              "    <tr>\n",
              "      <th>0</th>\n",
              "      <td>0</td>\n",
              "      <td>1.425140</td>\n",
              "      <td>-203.131439</td>\n",
              "    </tr>\n",
              "    <tr>\n",
              "      <th>1</th>\n",
              "      <td>0</td>\n",
              "      <td>93.696953</td>\n",
              "      <td>-55.018154</td>\n",
              "    </tr>\n",
              "    <tr>\n",
              "      <th>2</th>\n",
              "      <td>1</td>\n",
              "      <td>141.694016</td>\n",
              "      <td>25.320429</td>\n",
              "    </tr>\n",
              "    <tr>\n",
              "      <th>3</th>\n",
              "      <td>1</td>\n",
              "      <td>-126.233505</td>\n",
              "      <td>5.739788</td>\n",
              "    </tr>\n",
              "    <tr>\n",
              "      <th>4</th>\n",
              "      <td>2</td>\n",
              "      <td>-59.868134</td>\n",
              "      <td>101.519302</td>\n",
              "    </tr>\n",
              "    <tr>\n",
              "      <th>5</th>\n",
              "      <td>2</td>\n",
              "      <td>151.966629</td>\n",
              "      <td>133.119141</td>\n",
              "    </tr>\n",
              "    <tr>\n",
              "      <th>6</th>\n",
              "      <td>3</td>\n",
              "      <td>12.542690</td>\n",
              "      <td>-101.441658</td>\n",
              "    </tr>\n",
              "    <tr>\n",
              "      <th>7</th>\n",
              "      <td>3</td>\n",
              "      <td>49.372585</td>\n",
              "      <td>57.773476</td>\n",
              "    </tr>\n",
              "    <tr>\n",
              "      <th>8</th>\n",
              "      <td>4</td>\n",
              "      <td>203.505997</td>\n",
              "      <td>-84.541840</td>\n",
              "    </tr>\n",
              "    <tr>\n",
              "      <th>9</th>\n",
              "      <td>4</td>\n",
              "      <td>119.923477</td>\n",
              "      <td>-166.068970</td>\n",
              "    </tr>\n",
              "    <tr>\n",
              "      <th>10</th>\n",
              "      <td>5</td>\n",
              "      <td>-19.315592</td>\n",
              "      <td>-8.882428</td>\n",
              "    </tr>\n",
              "    <tr>\n",
              "      <th>11</th>\n",
              "      <td>5</td>\n",
              "      <td>-95.841057</td>\n",
              "      <td>-109.373474</td>\n",
              "    </tr>\n",
              "    <tr>\n",
              "      <th>12</th>\n",
              "      <td>6</td>\n",
              "      <td>37.554749</td>\n",
              "      <td>165.057098</td>\n",
              "    </tr>\n",
              "    <tr>\n",
              "      <th>13</th>\n",
              "      <td>6</td>\n",
              "      <td>243.648911</td>\n",
              "      <td>32.733547</td>\n",
              "    </tr>\n",
              "  </tbody>\n",
              "</table>\n",
              "</div>"
            ],
            "text/plain": [
              "    y       tsne1       tsne2\n",
              "0   0    1.425140 -203.131439\n",
              "1   0   93.696953  -55.018154\n",
              "2   1  141.694016   25.320429\n",
              "3   1 -126.233505    5.739788\n",
              "4   2  -59.868134  101.519302\n",
              "5   2  151.966629  133.119141\n",
              "6   3   12.542690 -101.441658\n",
              "7   3   49.372585   57.773476\n",
              "8   4  203.505997  -84.541840\n",
              "9   4  119.923477 -166.068970\n",
              "10  5  -19.315592   -8.882428\n",
              "11  5  -95.841057 -109.373474\n",
              "12  6   37.554749  165.057098\n",
              "13  6  243.648911   32.733547"
            ]
          },
          "metadata": {},
          "execution_count": 87
        }
      ]
    },
    {
      "cell_type": "code",
      "metadata": {
        "id": "KGrrnD3eMOHL"
      },
      "source": [
        "import seaborn as sns"
      ],
      "execution_count": 88,
      "outputs": []
    },
    {
      "cell_type": "code",
      "metadata": {
        "colab": {
          "base_uri": "https://localhost:8080/",
          "height": 606
        },
        "id": "OvbNxA0ZMOEE",
        "outputId": "692d13e9-edc2-4a67-c9bf-475135bffca4"
      },
      "source": [
        "plt.figure(figsize=(16,10))\n",
        "sns_plot = sns.scatterplot(\n",
        "    x=\"tsne1\", y=\"tsne2\",\n",
        "    hue=\"y\",\n",
        "    palette=sns.color_palette(\"hls\", 7),\n",
        "    data=df,\n",
        "    legend=\"full\"\n",
        ")\n",
        "\n"
      ],
      "execution_count": 89,
      "outputs": [
        {
          "output_type": "display_data",
          "data": {
            "image/png": "[encoded data removed]",
            "text/plain": [
              "<Figure size 1152x720 with 1 Axes>"
            ]
          },
          "metadata": {
            "needs_background": "light"
          }
        }
      ]
    },
    {
      "cell_type": "code",
      "metadata": {
        "id": "t2-eIrU4MXP_"
      },
      "source": [
        "sns_plot.figure.savefig(\"tsne_questions.png\")"
      ],
      "execution_count": 90,
      "outputs": []
    },
    {
      "cell_type": "code",
      "metadata": {
        "id": "baW1R_VkMW6X"
      },
      "source": [
        "tsne = TSNE(n_components=2, init='random', random_state=0)\n",
        "features = tsne.fit_transform(ans_embed_all)"
      ],
      "execution_count": 91,
      "outputs": []
    },
    {
      "cell_type": "code",
      "metadata": {
        "id": "SizpIuPCMbC_"
      },
      "source": [
        "labels = np.repeat([0, 1], 14)"
      ],
      "execution_count": 92,
      "outputs": []
    },
    {
      "cell_type": "code",
      "metadata": {
        "id": "9jjwEHV-MbAB"
      },
      "source": [
        "df = pd.DataFrame(labels, columns=['y'])"
      ],
      "execution_count": 93,
      "outputs": []
    },
    {
      "cell_type": "code",
      "metadata": {
        "id": "m71ZJCF0Ma9W"
      },
      "source": [
        "df['tsne1'] = features[:, 0]\n",
        "df['tsne2'] = features[:, 1]"
      ],
      "execution_count": 94,
      "outputs": []
    },
    {
      "cell_type": "code",
      "metadata": {
        "colab": {
          "base_uri": "https://localhost:8080/",
          "height": 606
        },
        "id": "zC_s2iaMMlY0",
        "outputId": "d2bacbde-9bdb-4cff-dc1d-79883e61149c"
      },
      "source": [
        "plt.figure(figsize=(16,10))\n",
        "sns_plot = sns.scatterplot(\n",
        "    x=\"tsne1\", y=\"tsne2\",\n",
        "    hue=\"y\",\n",
        "    palette=sns.color_palette(\"hls\", 2),\n",
        "    data=df,\n",
        "    legend=\"full\"\n",
        ")\n",
        "\n"
      ],
      "execution_count": 95,
      "outputs": [
        {
          "output_type": "display_data",
          "data": {
            "image/png": "[encoded data removed]",
            "text/plain": [
              "<Figure size 1152x720 with 1 Axes>"
            ]
          },
          "metadata": {
            "needs_background": "light"
          }
        }
      ]
    },
    {
      "cell_type": "code",
      "metadata": {
        "id": "RSADUpyNMlR2"
      },
      "source": [
        "sns_plot.figure.savefig(\"tsne_answers.png\")"
      ],
      "execution_count": 96,
      "outputs": []
    },
    {
      "cell_type": "code",
      "metadata": {
        "id": "53dPOwWhwOMI"
      },
      "source": [
        "np.savetxt(\"question_emb.txt\",(questions_embed_all),newline='\\n', delimiter='\\t')\n",
        "np.savetxt(\"answer_emb.txt\",(ans_embed_all),newline='\\n', delimiter='\\t')\n",
        "# np.savetxt(\"file1.txt\",(sentence_embedding1,sentence_embedding2,sentence_embedding3),newline='\\n', delimiter='\\t')"
      ],
      "execution_count": 97,
      "outputs": []
    },
    {
      "cell_type": "code",
      "metadata": {
        "colab": {
          "base_uri": "https://localhost:8080/"
        },
        "id": "-wUNvkFbwOH8",
        "outputId": "33d8e5d9-ad8b-4a8b-dcf2-88cc4937b961"
      },
      "source": [
        "all_ques=[]\n",
        "for que_type in questions_all:\n",
        "    for que in que_type:\n",
        "      print(que)\n",
        "      all_ques.append(que)"
      ],
      "execution_count": 98,
      "outputs": [
        {
          "output_type": "stream",
          "name": "stdout",
          "text": [
            "What is under the table?\n",
            "What color is the car to the far right?\n",
            "Why is the boy there?\n",
            "Why are they out there?\n",
            "How many trees are there?\n",
            "How many people are riding bikes?\n",
            "Who wearing the jacket?\n",
            "Who is wearing a dark blue shirt?\n",
            "When was the photo taken?\n",
            "When would you use the toilet paper?\n",
            "Where was the picture taken?\n",
            "Where are the players playing?\n",
            "Which is the messiest part of the image?\n",
            "Which part of the traffic pole has the yield on green sign?\n"
          ]
        }
      ]
    },
    {
      "cell_type": "code",
      "metadata": {
        "colab": {
          "base_uri": "https://localhost:8080/"
        },
        "id": "ZzEu0Ga0yLY2",
        "outputId": "619ec77c-e251-45e2-b340-3035a2f1ebcc"
      },
      "source": [
        "all_ans=[]\n",
        "for ans_type in true_answers_all:\n",
        "    for ans in ans_type:\n",
        "      print(ans)\n",
        "      all_ans.append(ans)\n",
        "for ans_type in false_answers_all:\n",
        "    for ans in ans_type:\n",
        "      print(ans)\n",
        "      all_ans.append(ans)"
      ],
      "execution_count": 99,
      "outputs": [
        {
          "output_type": "stream",
          "name": "stdout",
          "text": [
            "Trash can.\n",
            "Bronze.\n",
            "To fly a kite.\n",
            "To fly a kite.\n",
            "Two.\n",
            "One.\n",
            "A woman.\n",
            "The man.\n",
            "At a gathering.\n",
            "After you use bathroom.\n",
            "In front of a clock.\n",
            "Baseball field.\n",
            "381627\n",
            "990423\n",
            "Boxes.\n",
            "White.\n",
            "To sing.\n",
            "To enjoy the sunny weather.\n",
            "Six.\n",
            "Three.\n",
            "The skier.\n",
            "The boy.\n",
            "Summer.\n",
            "To blow your noise.\n",
            "At city hall.\n",
            "Soccer field.\n",
            "381645\n",
            "990430\n"
          ]
        }
      ]
    },
    {
      "cell_type": "code",
      "metadata": {
        "id": "KBlctM9LyylS"
      },
      "source": [
        "with open('meta.txt', 'w') as f:\n",
        "  for q in all_ques:\n",
        "    f.write(q +\"\\n\")\n",
        "  for a in all_ans:\n",
        "    f.write(a +\"\\n\")\n",
        "f.close()"
      ],
      "execution_count": 100,
      "outputs": []
    },
    {
      "cell_type": "code",
      "metadata": {
        "id": "u3ITeNTq0DVi"
      },
      "source": [
        "f1= open('question_emb.txt' , 'r') \n",
        "que_emb= f1.read()\n",
        "f1= open('answer_emb.txt' , 'r') \n",
        "ans_emb= f1.read()"
      ],
      "execution_count": 101,
      "outputs": []
    },
    {
      "cell_type": "code",
      "metadata": {
        "id": "8rJKqzD5z805"
      },
      "source": [
        "with open('vec.txt', 'w') as f:\n",
        "  f.write(que_emb)\n",
        "  f.write(ans_emb)\n",
        "f.close()"
      ],
      "execution_count": 102,
      "outputs": []
    },
    {
      "cell_type": "code",
      "metadata": {
        "id": "Rj_Vb41M4Mqb"
      },
      "source": [
        "## for more qualitative analysis-\n",
        "##download files  'meta.txt' and 'vec.txt' and upload it here 'https://projector.tensorflow.org/' by clicking 'Load' button and then  select T-SNE for visualisation"
      ],
      "execution_count": 103,
      "outputs": []
    },
    {
      "cell_type": "code",
      "metadata": {
        "id": "_iWUszokMwCV"
      },
      "source": [
        "##############################################################"
      ],
      "execution_count": null,
      "outputs": []
    },
    {
      "cell_type": "code",
      "metadata": {
        "id": "Sj3Jnzg8Mv_X"
      },
      "source": [
        ""
      ],
      "execution_count": null,
      "outputs": []
    },
    {
      "cell_type": "code",
      "metadata": {
        "id": "IArapAPMM_6Q"
      },
      "source": [
        ""
      ],
      "execution_count": null,
      "outputs": []
    }
  ]
}