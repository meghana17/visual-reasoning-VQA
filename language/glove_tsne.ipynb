{
  "nbformat": 4,
  "nbformat_minor": 0,
  "metadata": {
    "colab": {
      "name": "glove_tsne_2.ipynb",
      "provenance": [],
      "collapsed_sections": []
    },
    "kernelspec": {
      "name": "python3",
      "display_name": "Python 3"
    },
    "language_info": {
      "name": "python"
    }
  },
  "cells": [
    {
      "cell_type": "code",
      "metadata": {
        "colab": {
          "base_uri": "https://localhost:8080/"
        },
        "id": "nB6G8FLDuCPj",
        "outputId": "d9021e09-c908-4496-88ff-beabc7d16d9b"
      },
      "source": [
        "from google.colab import drive\n",
        "\n",
        "drive.mount('/content/gdrive')"
      ],
      "execution_count": 1,
      "outputs": [
        {
          "output_type": "stream",
          "name": "stdout",
          "text": [
            "Mounted at /content/gdrive\n"
          ]
        }
      ]
    },
    {
      "cell_type": "code",
      "metadata": {
        "id": "ICZjfj_iuEhy"
      },
      "source": [
        "import os\n",
        "os.chdir('/content/gdrive/MyDrive/11777_hws/project/github/11777-Project/')"
      ],
      "execution_count": 2,
      "outputs": []
    },
    {
      "cell_type": "code",
      "metadata": {
        "colab": {
          "base_uri": "https://localhost:8080/"
        },
        "id": "nPicw0QIvBEH",
        "outputId": "c761c114-f1eb-42e1-d778-09a733956db7"
      },
      "source": [
        "!ls"
      ],
      "execution_count": 3,
      "outputs": [
        {
          "output_type": "stream",
          "name": "stdout",
          "text": [
            "answers.png  data\tget_data.sh  questions.png\n",
            "common\t     file1.txt\tlanguage     README.md\n"
          ]
        }
      ]
    },
    {
      "cell_type": "code",
      "metadata": {
        "id": "D8qe2NDAMfH1",
        "colab": {
          "base_uri": "https://localhost:8080/"
        },
        "outputId": "7c11f420-3d91-4867-8a2e-619b2cdbf6ef"
      },
      "source": [
        "!pip install flair"
      ],
      "execution_count": 4,
      "outputs": [
        {
          "output_type": "stream",
          "name": "stdout",
          "text": [
            "Collecting flair\n",
            "  Downloading flair-0.9-py3-none-any.whl (319 kB)\n",
            "\u001b[?25l\r\u001b[K     |█                               | 10 kB 32.0 MB/s eta 0:00:01\r\u001b[K     |██                              | 20 kB 35.0 MB/s eta 0:00:01\r\u001b[K     |███                             | 30 kB 22.8 MB/s eta 0:00:01\r\u001b[K     |████                            | 40 kB 18.8 MB/s eta 0:00:01\r\u001b[K     |█████▏                          | 51 kB 9.3 MB/s eta 0:00:01\r\u001b[K     |██████▏                         | 61 kB 9.5 MB/s eta 0:00:01\r\u001b[K     |███████▏                        | 71 kB 9.0 MB/s eta 0:00:01\r\u001b[K     |████████▏                       | 81 kB 10.1 MB/s eta 0:00:01\r\u001b[K     |█████████▎                      | 92 kB 10.5 MB/s eta 0:00:01\r\u001b[K     |██████████▎                     | 102 kB 8.5 MB/s eta 0:00:01\r\u001b[K     |███████████▎                    | 112 kB 8.5 MB/s eta 0:00:01\r\u001b[K     |████████████▎                   | 122 kB 8.5 MB/s eta 0:00:01\r\u001b[K     |█████████████▍                  | 133 kB 8.5 MB/s eta 0:00:01\r\u001b[K     |██████████████▍                 | 143 kB 8.5 MB/s eta 0:00:01\r\u001b[K     |███████████████▍                | 153 kB 8.5 MB/s eta 0:00:01\r\u001b[K     |████████████████▍               | 163 kB 8.5 MB/s eta 0:00:01\r\u001b[K     |█████████████████▌              | 174 kB 8.5 MB/s eta 0:00:01\r\u001b[K     |██████████████████▌             | 184 kB 8.5 MB/s eta 0:00:01\r\u001b[K     |███████████████████▌            | 194 kB 8.5 MB/s eta 0:00:01\r\u001b[K     |████████████████████▌           | 204 kB 8.5 MB/s eta 0:00:01\r\u001b[K     |█████████████████████▌          | 215 kB 8.5 MB/s eta 0:00:01\r\u001b[K     |██████████████████████▋         | 225 kB 8.5 MB/s eta 0:00:01\r\u001b[K     |███████████████████████▋        | 235 kB 8.5 MB/s eta 0:00:01\r\u001b[K     |████████████████████████▋       | 245 kB 8.5 MB/s eta 0:00:01\r\u001b[K     |█████████████████████████▋      | 256 kB 8.5 MB/s eta 0:00:01\r\u001b[K     |██████████████████████████▊     | 266 kB 8.5 MB/s eta 0:00:01\r\u001b[K     |███████████████████████████▊    | 276 kB 8.5 MB/s eta 0:00:01\r\u001b[K     |████████████████████████████▊   | 286 kB 8.5 MB/s eta 0:00:01\r\u001b[K     |█████████████████████████████▊  | 296 kB 8.5 MB/s eta 0:00:01\r\u001b[K     |██████████████████████████████▉ | 307 kB 8.5 MB/s eta 0:00:01\r\u001b[K     |███████████████████████████████▉| 317 kB 8.5 MB/s eta 0:00:01\r\u001b[K     |████████████████████████████████| 319 kB 8.5 MB/s \n",
            "\u001b[?25hRequirement already satisfied: tqdm>=4.26.0 in /usr/local/lib/python3.7/dist-packages (from flair) (4.62.3)\n",
            "Collecting mpld3==0.3\n",
            "  Downloading mpld3-0.3.tar.gz (788 kB)\n",
            "\u001b[K     |████████████████████████████████| 788 kB 48.0 MB/s \n",
            "\u001b[?25hCollecting deprecated>=1.2.4\n",
            "  Downloading Deprecated-1.2.13-py2.py3-none-any.whl (9.6 kB)\n",
            "Collecting segtok>=1.5.7\n",
            "  Downloading segtok-1.5.10.tar.gz (25 kB)\n",
            "Requirement already satisfied: lxml in /usr/local/lib/python3.7/dist-packages (from flair) (4.2.6)\n",
            "Collecting konoha<5.0.0,>=4.0.0\n",
            "  Downloading konoha-4.6.5-py3-none-any.whl (20 kB)\n",
            "Collecting wikipedia-api\n",
            "  Downloading Wikipedia-API-0.5.4.tar.gz (18 kB)\n",
            "Collecting transformers>=4.0.0\n",
            "  Downloading transformers-4.11.3-py3-none-any.whl (2.9 MB)\n",
            "\u001b[K     |████████████████████████████████| 2.9 MB 57.2 MB/s \n",
            "\u001b[?25hRequirement already satisfied: python-dateutil>=2.6.1 in /usr/local/lib/python3.7/dist-packages (from flair) (2.8.2)\n",
            "Requirement already satisfied: torch!=1.8,>=1.5.0 in /usr/local/lib/python3.7/dist-packages (from flair) (1.9.0+cu111)\n",
            "Requirement already satisfied: regex in /usr/local/lib/python3.7/dist-packages (from flair) (2019.12.20)\n",
            "Requirement already satisfied: scikit-learn>=0.21.3 in /usr/local/lib/python3.7/dist-packages (from flair) (0.22.2.post1)\n",
            "Collecting more-itertools~=8.8.0\n",
            "  Downloading more_itertools-8.8.0-py3-none-any.whl (48 kB)\n",
            "\u001b[K     |████████████████████████████████| 48 kB 6.7 MB/s \n",
            "\u001b[?25hCollecting conllu>=4.0\n",
            "  Downloading conllu-4.4.1-py2.py3-none-any.whl (15 kB)\n",
            "Requirement already satisfied: matplotlib>=2.2.3 in /usr/local/lib/python3.7/dist-packages (from flair) (3.2.2)\n",
            "Collecting ftfy\n",
            "  Downloading ftfy-6.0.3.tar.gz (64 kB)\n",
            "\u001b[K     |████████████████████████████████| 64 kB 3.5 MB/s \n",
            "\u001b[?25hCollecting gdown==3.12.2\n",
            "  Downloading gdown-3.12.2.tar.gz (8.2 kB)\n",
            "  Installing build dependencies ... \u001b[?25l\u001b[?25hdone\n",
            "  Getting requirements to build wheel ... \u001b[?25l\u001b[?25hdone\n",
            "    Preparing wheel metadata ... \u001b[?25l\u001b[?25hdone\n",
            "Collecting bpemb>=0.3.2\n",
            "  Downloading bpemb-0.3.3-py3-none-any.whl (19 kB)\n",
            "Collecting huggingface-hub\n",
            "  Downloading huggingface_hub-0.0.19-py3-none-any.whl (56 kB)\n",
            "\u001b[K     |████████████████████████████████| 56 kB 5.7 MB/s \n",
            "\u001b[?25hRequirement already satisfied: tabulate in /usr/local/lib/python3.7/dist-packages (from flair) (0.8.9)\n",
            "Collecting sentencepiece==0.1.95\n",
            "  Downloading sentencepiece-0.1.95-cp37-cp37m-manylinux2014_x86_64.whl (1.2 MB)\n",
            "\u001b[K     |████████████████████████████████| 1.2 MB 36.3 MB/s \n",
            "\u001b[?25hRequirement already satisfied: hyperopt>=0.1.1 in /usr/local/lib/python3.7/dist-packages (from flair) (0.1.2)\n",
            "Collecting sqlitedict>=1.6.0\n",
            "  Downloading sqlitedict-1.7.0.tar.gz (28 kB)\n",
            "Collecting janome\n",
            "  Downloading Janome-0.4.1-py2.py3-none-any.whl (19.7 MB)\n",
            "\u001b[K     |████████████████████████████████| 19.7 MB 5.5 MB/s \n",
            "\u001b[?25hRequirement already satisfied: gensim<=3.8.3,>=3.4.0 in /usr/local/lib/python3.7/dist-packages (from flair) (3.6.0)\n",
            "Collecting langdetect\n",
            "  Downloading langdetect-1.0.9.tar.gz (981 kB)\n",
            "\u001b[K     |████████████████████████████████| 981 kB 38.0 MB/s \n",
            "\u001b[?25hRequirement already satisfied: filelock in /usr/local/lib/python3.7/dist-packages (from gdown==3.12.2->flair) (3.3.0)\n",
            "Requirement already satisfied: requests[socks] in /usr/local/lib/python3.7/dist-packages (from gdown==3.12.2->flair) (2.23.0)\n",
            "Requirement already satisfied: six in /usr/local/lib/python3.7/dist-packages (from gdown==3.12.2->flair) (1.15.0)\n",
            "Requirement already satisfied: numpy in /usr/local/lib/python3.7/dist-packages (from bpemb>=0.3.2->flair) (1.19.5)\n",
            "Requirement already satisfied: wrapt<2,>=1.10 in /usr/local/lib/python3.7/dist-packages (from deprecated>=1.2.4->flair) (1.12.1)\n",
            "Requirement already satisfied: smart-open>=1.2.1 in /usr/local/lib/python3.7/dist-packages (from gensim<=3.8.3,>=3.4.0->flair) (5.2.1)\n",
            "Requirement already satisfied: scipy>=0.18.1 in /usr/local/lib/python3.7/dist-packages (from gensim<=3.8.3,>=3.4.0->flair) (1.4.1)\n",
            "Requirement already satisfied: pymongo in /usr/local/lib/python3.7/dist-packages (from hyperopt>=0.1.1->flair) (3.12.0)\n",
            "Requirement already satisfied: future in /usr/local/lib/python3.7/dist-packages (from hyperopt>=0.1.1->flair) (0.16.0)\n",
            "Requirement already satisfied: networkx in /usr/local/lib/python3.7/dist-packages (from hyperopt>=0.1.1->flair) (2.6.3)\n",
            "Collecting requests\n",
            "  Downloading requests-2.26.0-py2.py3-none-any.whl (62 kB)\n",
            "\u001b[K     |████████████████████████████████| 62 kB 977 kB/s \n",
            "\u001b[?25hCollecting importlib-metadata<4.0.0,>=3.7.0\n",
            "  Downloading importlib_metadata-3.10.1-py3-none-any.whl (14 kB)\n",
            "Collecting overrides<4.0.0,>=3.0.0\n",
            "  Downloading overrides-3.1.0.tar.gz (11 kB)\n",
            "Requirement already satisfied: zipp>=0.5 in /usr/local/lib/python3.7/dist-packages (from importlib-metadata<4.0.0,>=3.7.0->konoha<5.0.0,>=4.0.0->flair) (3.6.0)\n",
            "Requirement already satisfied: typing-extensions>=3.6.4 in /usr/local/lib/python3.7/dist-packages (from importlib-metadata<4.0.0,>=3.7.0->konoha<5.0.0,>=4.0.0->flair) (3.7.4.3)\n",
            "Requirement already satisfied: kiwisolver>=1.0.1 in /usr/local/lib/python3.7/dist-packages (from matplotlib>=2.2.3->flair) (1.3.2)\n",
            "Requirement already satisfied: pyparsing!=2.0.4,!=2.1.2,!=2.1.6,>=2.0.1 in /usr/local/lib/python3.7/dist-packages (from matplotlib>=2.2.3->flair) (2.4.7)\n",
            "Requirement already satisfied: cycler>=0.10 in /usr/local/lib/python3.7/dist-packages (from matplotlib>=2.2.3->flair) (0.10.0)\n",
            "Requirement already satisfied: certifi>=2017.4.17 in /usr/local/lib/python3.7/dist-packages (from requests->bpemb>=0.3.2->flair) (2021.5.30)\n",
            "Requirement already satisfied: idna<4,>=2.5 in /usr/local/lib/python3.7/dist-packages (from requests->bpemb>=0.3.2->flair) (2.10)\n",
            "Requirement already satisfied: urllib3<1.27,>=1.21.1 in /usr/local/lib/python3.7/dist-packages (from requests->bpemb>=0.3.2->flair) (1.24.3)\n",
            "Requirement already satisfied: charset-normalizer~=2.0.0 in /usr/local/lib/python3.7/dist-packages (from requests->bpemb>=0.3.2->flair) (2.0.6)\n",
            "Requirement already satisfied: joblib>=0.11 in /usr/local/lib/python3.7/dist-packages (from scikit-learn>=0.21.3->flair) (1.0.1)\n",
            "Collecting sacremoses\n",
            "  Downloading sacremoses-0.0.46-py3-none-any.whl (895 kB)\n",
            "\u001b[K     |████████████████████████████████| 895 kB 78.3 MB/s \n",
            "\u001b[?25hRequirement already satisfied: packaging>=20.0 in /usr/local/lib/python3.7/dist-packages (from transformers>=4.0.0->flair) (21.0)\n",
            "Collecting tokenizers<0.11,>=0.10.1\n",
            "  Downloading tokenizers-0.10.3-cp37-cp37m-manylinux_2_5_x86_64.manylinux1_x86_64.manylinux_2_12_x86_64.manylinux2010_x86_64.whl (3.3 MB)\n",
            "\u001b[K     |████████████████████████████████| 3.3 MB 49.9 MB/s \n",
            "\u001b[?25hCollecting pyyaml>=5.1\n",
            "  Downloading PyYAML-5.4.1-cp37-cp37m-manylinux1_x86_64.whl (636 kB)\n",
            "\u001b[K     |████████████████████████████████| 636 kB 57.4 MB/s \n",
            "\u001b[?25hRequirement already satisfied: wcwidth in /usr/local/lib/python3.7/dist-packages (from ftfy->flair) (0.2.5)\n",
            "Requirement already satisfied: PySocks!=1.5.7,>=1.5.6 in /usr/local/lib/python3.7/dist-packages (from requests->bpemb>=0.3.2->flair) (1.7.1)\n",
            "Requirement already satisfied: click in /usr/local/lib/python3.7/dist-packages (from sacremoses->transformers>=4.0.0->flair) (7.1.2)\n",
            "Building wheels for collected packages: gdown, mpld3, overrides, segtok, sqlitedict, ftfy, langdetect, wikipedia-api\n",
            "  Building wheel for gdown (PEP 517) ... \u001b[?25l\u001b[?25hdone\n",
            "  Created wheel for gdown: filename=gdown-3.12.2-py3-none-any.whl size=9704 sha256=c1238779b5b5490fcfa4d0d40671708a26efaa92566ed3664c87f048069409dc\n",
            "  Stored in directory: /root/.cache/pip/wheels/ba/e0/7e/726e872a53f7358b4b96a9975b04e98113b005cd8609a63abc\n",
            "  Building wheel for mpld3 (setup.py) ... \u001b[?25l\u001b[?25hdone\n",
            "  Created wheel for mpld3: filename=mpld3-0.3-py3-none-any.whl size=116702 sha256=d43a721b14aa61138dcfd655b502f40bf844e3fa5534e2cb12ced03ab7132c71\n",
            "  Stored in directory: /root/.cache/pip/wheels/26/70/6a/1c79e59951a41b4045497da187b2724f5659ca64033cf4548e\n",
            "  Building wheel for overrides (setup.py) ... \u001b[?25l\u001b[?25hdone\n",
            "  Created wheel for overrides: filename=overrides-3.1.0-py3-none-any.whl size=10186 sha256=3fd433b00fe8eb577ac51eb21d5fc7f442c74a9dc2f5d0e92211a368a267e905\n",
            "  Stored in directory: /root/.cache/pip/wheels/3a/0d/38/01a9bc6e20dcfaf0a6a7b552d03137558ba1c38aea47644682\n",
            "  Building wheel for segtok (setup.py) ... \u001b[?25l\u001b[?25hdone\n",
            "  Created wheel for segtok: filename=segtok-1.5.10-py3-none-any.whl size=25030 sha256=de8e119ca07dbe03baa0c8db53bdd498f71838d3a27f36e6bc1326032d95ff62\n",
            "  Stored in directory: /root/.cache/pip/wheels/67/b7/d0/a121106e61339eee5ed083bc230b1c8dc422c49a5a28c2addd\n",
            "  Building wheel for sqlitedict (setup.py) ... \u001b[?25l\u001b[?25hdone\n",
            "  Created wheel for sqlitedict: filename=sqlitedict-1.7.0-py3-none-any.whl size=14392 sha256=2ff9030003d849b5314a857fba7cbcb364eb7c8076a80a51f464637b7d3d2d6b\n",
            "  Stored in directory: /root/.cache/pip/wheels/af/94/06/18c0e83e9e227da8f3582810b51f319bbfd181e508676a56c8\n",
            "  Building wheel for ftfy (setup.py) ... \u001b[?25l\u001b[?25hdone\n",
            "  Created wheel for ftfy: filename=ftfy-6.0.3-py3-none-any.whl size=41933 sha256=c1969967e52ca631baf9bf0de46e64b688865197b2e1e4109fa5de90825a320a\n",
            "  Stored in directory: /root/.cache/pip/wheels/19/f5/38/273eb3b5e76dfd850619312f693716ac4518b498f5ffb6f56d\n",
            "  Building wheel for langdetect (setup.py) ... \u001b[?25l\u001b[?25hdone\n",
            "  Created wheel for langdetect: filename=langdetect-1.0.9-py3-none-any.whl size=993242 sha256=6efecef8bb83c7d358606e5cc028f0c52bf24101a9b884fc9ee99fb124391c26\n",
            "  Stored in directory: /root/.cache/pip/wheels/c5/96/8a/f90c59ed25d75e50a8c10a1b1c2d4c402e4dacfa87f3aff36a\n",
            "  Building wheel for wikipedia-api (setup.py) ... \u001b[?25l\u001b[?25hdone\n",
            "  Created wheel for wikipedia-api: filename=Wikipedia_API-0.5.4-py3-none-any.whl size=13475 sha256=449102b875ffd27158c6dd03fe8848ff4d0557e134bc58250675ac348aa5630b\n",
            "  Stored in directory: /root/.cache/pip/wheels/d3/24/56/58ba93cf78be162451144e7a9889603f437976ef1ae7013d04\n",
            "Successfully built gdown mpld3 overrides segtok sqlitedict ftfy langdetect wikipedia-api\n",
            "Installing collected packages: requests, pyyaml, importlib-metadata, tokenizers, sentencepiece, sacremoses, overrides, huggingface-hub, wikipedia-api, transformers, sqlitedict, segtok, mpld3, more-itertools, langdetect, konoha, janome, gdown, ftfy, deprecated, conllu, bpemb, flair\n",
            "  Attempting uninstall: requests\n",
            "    Found existing installation: requests 2.23.0\n",
            "    Uninstalling requests-2.23.0:\n",
            "      Successfully uninstalled requests-2.23.0\n",
            "  Attempting uninstall: pyyaml\n",
            "    Found existing installation: PyYAML 3.13\n",
            "    Uninstalling PyYAML-3.13:\n",
            "      Successfully uninstalled PyYAML-3.13\n",
            "  Attempting uninstall: importlib-metadata\n",
            "    Found existing installation: importlib-metadata 4.8.1\n",
            "    Uninstalling importlib-metadata-4.8.1:\n",
            "      Successfully uninstalled importlib-metadata-4.8.1\n",
            "  Attempting uninstall: more-itertools\n",
            "    Found existing installation: more-itertools 8.10.0\n",
            "    Uninstalling more-itertools-8.10.0:\n",
            "      Successfully uninstalled more-itertools-8.10.0\n",
            "  Attempting uninstall: gdown\n",
            "    Found existing installation: gdown 3.6.4\n",
            "    Uninstalling gdown-3.6.4:\n",
            "      Successfully uninstalled gdown-3.6.4\n",
            "\u001b[31mERROR: pip's dependency resolver does not currently take into account all the packages that are installed. This behaviour is the source of the following dependency conflicts.\n",
            "google-colab 1.0.0 requires requests~=2.23.0, but you have requests 2.26.0 which is incompatible.\n",
            "datascience 0.10.6 requires folium==0.2.1, but you have folium 0.8.3 which is incompatible.\u001b[0m\n",
            "Successfully installed bpemb-0.3.3 conllu-4.4.1 deprecated-1.2.13 flair-0.9 ftfy-6.0.3 gdown-3.12.2 huggingface-hub-0.0.19 importlib-metadata-3.10.1 janome-0.4.1 konoha-4.6.5 langdetect-1.0.9 more-itertools-8.8.0 mpld3-0.3 overrides-3.1.0 pyyaml-5.4.1 requests-2.26.0 sacremoses-0.0.46 segtok-1.5.10 sentencepiece-0.1.95 sqlitedict-1.7.0 tokenizers-0.10.3 transformers-4.11.3 wikipedia-api-0.5.4\n"
          ]
        }
      ]
    },
    {
      "cell_type": "code",
      "metadata": {
        "id": "dljRfAt1_M5G"
      },
      "source": [
        "import numpy as np\n",
        "import matplotlib.pyplot as plt\n",
        "from sklearn.manifold import TSNE"
      ],
      "execution_count": 5,
      "outputs": []
    },
    {
      "cell_type": "code",
      "metadata": {
        "id": "vd_5hEBMNwlt",
        "colab": {
          "base_uri": "https://localhost:8080/"
        },
        "outputId": "ef81fa60-5acc-4e89-dcee-41226e7934a7"
      },
      "source": [
        "from flair.embeddings import WordEmbeddings, DocumentPoolEmbeddings\n",
        "from flair.data import *\n",
        "# initialize the word embeddings\n",
        "glove_embedding = WordEmbeddings('glove')\n",
        "\n",
        "# initialize the document embeddings, mode = mean\n",
        "document_embeddings = DocumentPoolEmbeddings([glove_embedding])"
      ],
      "execution_count": 6,
      "outputs": [
        {
          "output_type": "stream",
          "name": "stdout",
          "text": [
            "2021-10-10 17:03:30,978 https://flair.informatik.hu-berlin.de/resources/embeddings/token/glove.gensim.vectors.npy not found in cache, downloading to /tmp/tmp_gb56cza\n"
          ]
        },
        {
          "output_type": "stream",
          "name": "stderr",
          "text": [
            "100%|██████████| 160000128/160000128 [00:10<00:00, 15339094.94B/s]"
          ]
        },
        {
          "output_type": "stream",
          "name": "stdout",
          "text": [
            "2021-10-10 17:03:41,909 copying /tmp/tmp_gb56cza to cache at /root/.flair/embeddings/glove.gensim.vectors.npy\n"
          ]
        },
        {
          "output_type": "stream",
          "name": "stderr",
          "text": [
            "\n"
          ]
        },
        {
          "output_type": "stream",
          "name": "stdout",
          "text": [
            "2021-10-10 17:03:42,294 removing temp file /tmp/tmp_gb56cza\n",
            "2021-10-10 17:03:43,482 https://flair.informatik.hu-berlin.de/resources/embeddings/token/glove.gensim not found in cache, downloading to /tmp/tmp6y0261c4\n"
          ]
        },
        {
          "output_type": "stream",
          "name": "stderr",
          "text": [
            "100%|██████████| 21494764/21494764 [00:02<00:00, 8206157.85B/s] "
          ]
        },
        {
          "output_type": "stream",
          "name": "stdout",
          "text": [
            "2021-10-10 17:03:46,595 copying /tmp/tmp6y0261c4 to cache at /root/.flair/embeddings/glove.gensim\n",
            "2021-10-10 17:03:46,622 removing temp file /tmp/tmp6y0261c4\n"
          ]
        },
        {
          "output_type": "stream",
          "name": "stderr",
          "text": [
            "\n"
          ]
        }
      ]
    },
    {
      "cell_type": "code",
      "metadata": {
        "id": "mUjbELcROvWF"
      },
      "source": [
        "# # create an example sentence\n",
        "# sentence = Sentence('The grass is green . And the sky is blue .')\n",
        "\n",
        "# # embed the sentence with our document embedding\n",
        "# document_embeddings.embed(sentence)\n",
        "\n",
        "# # now check out the embedded sentence.\n",
        "# print(sentence.embedding)"
      ],
      "execution_count": 7,
      "outputs": []
    },
    {
      "cell_type": "code",
      "metadata": {
        "id": "qPUZgtmNSA7n"
      },
      "source": [
        "def read_samples(path, n=20):\n",
        "    questions, true_ans, false_ans = [], [], []\n",
        "    with open(path, 'r') as f:\n",
        "        for i, line in enumerate(f):\n",
        "            if i % 6 == 0:\n",
        "                questions.append(line.rstrip())\n",
        "            elif i % 6 == 1:\n",
        "                true_ans.append(line.rstrip())\n",
        "            elif i % 6 == 2:\n",
        "                false_ans.append(line.rstrip())\n",
        "            if len(false_ans) >= n:\n",
        "                break\n",
        "    return questions, true_ans, false_ans\n",
        "\n",
        "\n"
      ],
      "execution_count": 8,
      "outputs": []
    },
    {
      "cell_type": "code",
      "metadata": {
        "id": "kXtx70HeSDAZ"
      },
      "source": [
        "def get_glove_embedding(question):\n",
        "  sentence = Sentence(question)\n",
        "  document_embeddings.embed(sentence)\n",
        "  sentence_embedding= sentence.embedding.numpy()\n",
        "  return sentence_embedding"
      ],
      "execution_count": 9,
      "outputs": []
    },
    {
      "cell_type": "code",
      "metadata": {
        "id": "KJEAJkdsSkzx"
      },
      "source": [
        "categories = ['what', 'why', 'how', 'who', 'when', 'where', 'which']"
      ],
      "execution_count": 10,
      "outputs": []
    },
    {
      "cell_type": "code",
      "metadata": {
        "id": "D2c0k8jxSkw0"
      },
      "source": [
        "questions_all = []\n",
        "true_answers_all = []\n",
        "false_answers_all = []"
      ],
      "execution_count": 11,
      "outputs": []
    },
    {
      "cell_type": "code",
      "metadata": {
        "id": "bCKR8-neSqn_"
      },
      "source": [
        " for type_str in categories:\n",
        "    path = os.path.join('common/tmp/', type_str + '50.txt')\n",
        "    questions, true_ans, false_ans = read_samples(path)\n",
        "    questions_all.append(questions)\n",
        "    true_answers_all.append(true_ans)\n",
        "    false_answers_all.append(false_ans)\n",
        "\n"
      ],
      "execution_count": 12,
      "outputs": []
    },
    {
      "cell_type": "code",
      "metadata": {
        "colab": {
          "base_uri": "https://localhost:8080/"
        },
        "id": "OnqMaxLoTUwt",
        "outputId": "a89e7cd0-fb28-4404-ba0e-256ab503da18"
      },
      "source": [
        "questions_all[0][-1], true_answers_all[0][-1], false_answers_all[0][-1]"
      ],
      "execution_count": 13,
      "outputs": [
        {
          "output_type": "execute_result",
          "data": {
            "text/plain": [
              "(\"What is on the kid's shirt?\", 'A monkey.', 'A robot.')"
            ]
          },
          "metadata": {},
          "execution_count": 13
        }
      ]
    },
    {
      "cell_type": "code",
      "metadata": {
        "id": "Hjtlr5wxTbB7"
      },
      "source": [
        "questions_embeddings = [[get_glove_embedding(q) for q in questions] for questions in questions_all]\n",
        "true_answers_embeddings = [[get_glove_embedding(ta) for ta in true_answers] for true_answers in true_answers_all]\n",
        "false_answers_embeddings = [[get_glove_embedding(fa) for fa in false_answers] for false_answers in false_answers_all]"
      ],
      "execution_count": 14,
      "outputs": []
    },
    {
      "cell_type": "code",
      "metadata": {
        "id": "QiF5q20tTa-z"
      },
      "source": [
        "true_embed_all = np.vstack(true_answers_embeddings)\n",
        "false_embed_all = np.vstack(false_answers_embeddings)"
      ],
      "execution_count": 15,
      "outputs": []
    },
    {
      "cell_type": "code",
      "metadata": {
        "colab": {
          "base_uri": "https://localhost:8080/"
        },
        "id": "MMsKolhVY9Di",
        "outputId": "1f5cb04d-9eee-456c-e031-eadc186e53b5"
      },
      "source": [
        "true_embed_all.shape, false_embed_all.shape\n"
      ],
      "execution_count": 16,
      "outputs": [
        {
          "output_type": "execute_result",
          "data": {
            "text/plain": [
              "((140, 100), (140, 100))"
            ]
          },
          "metadata": {},
          "execution_count": 16
        }
      ]
    },
    {
      "cell_type": "code",
      "metadata": {
        "id": "ByIE0wb4Ta6a"
      },
      "source": [
        "ans_embed_all = np.vstack((true_embed_all, false_embed_all))"
      ],
      "execution_count": 17,
      "outputs": []
    },
    {
      "cell_type": "code",
      "metadata": {
        "id": "RjtlHItCLuOG"
      },
      "source": [
        "questions_embed_all = np.vstack(questions_embeddings)"
      ],
      "execution_count": 18,
      "outputs": []
    },
    {
      "cell_type": "code",
      "metadata": {
        "colab": {
          "base_uri": "https://localhost:8080/"
        },
        "id": "OK0SVDIOLuJR",
        "outputId": "5da9e280-c23e-42e8-8f03-b6ee84a4f6b9"
      },
      "source": [
        "questions_embed_all.shape"
      ],
      "execution_count": 19,
      "outputs": [
        {
          "output_type": "execute_result",
          "data": {
            "text/plain": [
              "(140, 100)"
            ]
          },
          "metadata": {},
          "execution_count": 19
        }
      ]
    },
    {
      "cell_type": "code",
      "metadata": {
        "id": "Omq3qHxxLuGA"
      },
      "source": [
        "import matplotlib.pyplot as plt\n",
        "from sklearn.manifold import TSNE"
      ],
      "execution_count": 20,
      "outputs": []
    },
    {
      "cell_type": "code",
      "metadata": {
        "id": "U9w5lox9LzIu"
      },
      "source": [
        "tsne = TSNE(n_components=2, init='random', random_state=0)\n",
        "features = tsne.fit_transform(questions_embed_all)"
      ],
      "execution_count": 21,
      "outputs": []
    },
    {
      "cell_type": "code",
      "metadata": {
        "colab": {
          "base_uri": "https://localhost:8080/"
        },
        "id": "gdkwSKYtLzE7",
        "outputId": "c46b59a4-5693-4da1-dadd-241d48ed4f04"
      },
      "source": [
        "features[:20].shape"
      ],
      "execution_count": 22,
      "outputs": [
        {
          "output_type": "execute_result",
          "data": {
            "text/plain": [
              "(20, 2)"
            ]
          },
          "metadata": {},
          "execution_count": 22
        }
      ]
    },
    {
      "cell_type": "code",
      "metadata": {
        "id": "6QhyozxQL8f1"
      },
      "source": [
        "labels = np.repeat([0, 1, 2, 3, 4, 5, 6], 20)"
      ],
      "execution_count": 23,
      "outputs": []
    },
    {
      "cell_type": "code",
      "metadata": {
        "colab": {
          "base_uri": "https://localhost:8080/"
        },
        "id": "JpENQQjBL8cV",
        "outputId": "3215747b-7413-4f7b-d6b0-951c7db3a6c7"
      },
      "source": [
        "labels"
      ],
      "execution_count": 24,
      "outputs": [
        {
          "output_type": "execute_result",
          "data": {
            "text/plain": [
              "array([0, 0, 0, 0, 0, 0, 0, 0, 0, 0, 0, 0, 0, 0, 0, 0, 0, 0, 0, 0, 1, 1,\n",
              "       1, 1, 1, 1, 1, 1, 1, 1, 1, 1, 1, 1, 1, 1, 1, 1, 1, 1, 2, 2, 2, 2,\n",
              "       2, 2, 2, 2, 2, 2, 2, 2, 2, 2, 2, 2, 2, 2, 2, 2, 3, 3, 3, 3, 3, 3,\n",
              "       3, 3, 3, 3, 3, 3, 3, 3, 3, 3, 3, 3, 3, 3, 4, 4, 4, 4, 4, 4, 4, 4,\n",
              "       4, 4, 4, 4, 4, 4, 4, 4, 4, 4, 4, 4, 5, 5, 5, 5, 5, 5, 5, 5, 5, 5,\n",
              "       5, 5, 5, 5, 5, 5, 5, 5, 5, 5, 6, 6, 6, 6, 6, 6, 6, 6, 6, 6, 6, 6,\n",
              "       6, 6, 6, 6, 6, 6, 6, 6])"
            ]
          },
          "metadata": {},
          "execution_count": 24
        }
      ]
    },
    {
      "cell_type": "code",
      "metadata": {
        "id": "0ZZ0HgHCMCTW"
      },
      "source": [
        "import pandas as pd\n",
        "df = pd.DataFrame(labels, columns=['y'])"
      ],
      "execution_count": 25,
      "outputs": []
    },
    {
      "cell_type": "code",
      "metadata": {
        "id": "6yrWwPLgMCOY"
      },
      "source": [
        "colors = ['red', 'black', 'blue', 'yellow', 'green', 'orange', 'brown']"
      ],
      "execution_count": 26,
      "outputs": []
    },
    {
      "cell_type": "code",
      "metadata": {
        "id": "1VFlErCnMIyD"
      },
      "source": [
        "df['tsne1'] = features[:, 0]\n",
        "df['tsne2'] = features[:, 1]"
      ],
      "execution_count": 27,
      "outputs": []
    },
    {
      "cell_type": "code",
      "metadata": {
        "colab": {
          "base_uri": "https://localhost:8080/",
          "height": 424
        },
        "id": "rwMXd2ZsMItv",
        "outputId": "2ef28a0b-a1fb-4aed-cea2-6198c33b4058"
      },
      "source": [
        "df"
      ],
      "execution_count": 28,
      "outputs": [
        {
          "output_type": "execute_result",
          "data": {
            "text/html": [
              "<div>\n",
              "<style scoped>\n",
              "    .dataframe tbody tr th:only-of-type {\n",
              "        vertical-align: middle;\n",
              "    }\n",
              "\n",
              "    .dataframe tbody tr th {\n",
              "        vertical-align: top;\n",
              "    }\n",
              "\n",
              "    .dataframe thead th {\n",
              "        text-align: right;\n",
              "    }\n",
              "</style>\n",
              "<table border=\"1\" class=\"dataframe\">\n",
              "  <thead>\n",
              "    <tr style=\"text-align: right;\">\n",
              "      <th></th>\n",
              "      <th>y</th>\n",
              "      <th>tsne1</th>\n",
              "      <th>tsne2</th>\n",
              "    </tr>\n",
              "  </thead>\n",
              "  <tbody>\n",
              "    <tr>\n",
              "      <th>0</th>\n",
              "      <td>0</td>\n",
              "      <td>-6.993002</td>\n",
              "      <td>4.166016</td>\n",
              "    </tr>\n",
              "    <tr>\n",
              "      <th>1</th>\n",
              "      <td>0</td>\n",
              "      <td>1.252336</td>\n",
              "      <td>-0.136991</td>\n",
              "    </tr>\n",
              "    <tr>\n",
              "      <th>2</th>\n",
              "      <td>0</td>\n",
              "      <td>0.427820</td>\n",
              "      <td>-0.842890</td>\n",
              "    </tr>\n",
              "    <tr>\n",
              "      <th>3</th>\n",
              "      <td>0</td>\n",
              "      <td>-7.441066</td>\n",
              "      <td>1.114563</td>\n",
              "    </tr>\n",
              "    <tr>\n",
              "      <th>4</th>\n",
              "      <td>0</td>\n",
              "      <td>-7.136569</td>\n",
              "      <td>4.172537</td>\n",
              "    </tr>\n",
              "    <tr>\n",
              "      <th>...</th>\n",
              "      <td>...</td>\n",
              "      <td>...</td>\n",
              "      <td>...</td>\n",
              "    </tr>\n",
              "    <tr>\n",
              "      <th>135</th>\n",
              "      <td>6</td>\n",
              "      <td>3.273823</td>\n",
              "      <td>0.486352</td>\n",
              "    </tr>\n",
              "    <tr>\n",
              "      <th>136</th>\n",
              "      <td>6</td>\n",
              "      <td>4.848640</td>\n",
              "      <td>3.262551</td>\n",
              "    </tr>\n",
              "    <tr>\n",
              "      <th>137</th>\n",
              "      <td>6</td>\n",
              "      <td>3.570864</td>\n",
              "      <td>-0.011511</td>\n",
              "    </tr>\n",
              "    <tr>\n",
              "      <th>138</th>\n",
              "      <td>6</td>\n",
              "      <td>2.546680</td>\n",
              "      <td>0.268414</td>\n",
              "    </tr>\n",
              "    <tr>\n",
              "      <th>139</th>\n",
              "      <td>6</td>\n",
              "      <td>9.566844</td>\n",
              "      <td>0.584940</td>\n",
              "    </tr>\n",
              "  </tbody>\n",
              "</table>\n",
              "<p>140 rows × 3 columns</p>\n",
              "</div>"
            ],
            "text/plain": [
              "     y     tsne1     tsne2\n",
              "0    0 -6.993002  4.166016\n",
              "1    0  1.252336 -0.136991\n",
              "2    0  0.427820 -0.842890\n",
              "3    0 -7.441066  1.114563\n",
              "4    0 -7.136569  4.172537\n",
              "..  ..       ...       ...\n",
              "135  6  3.273823  0.486352\n",
              "136  6  4.848640  3.262551\n",
              "137  6  3.570864 -0.011511\n",
              "138  6  2.546680  0.268414\n",
              "139  6  9.566844  0.584940\n",
              "\n",
              "[140 rows x 3 columns]"
            ]
          },
          "metadata": {},
          "execution_count": 28
        }
      ]
    },
    {
      "cell_type": "code",
      "metadata": {
        "id": "KGrrnD3eMOHL"
      },
      "source": [
        "import seaborn as sns"
      ],
      "execution_count": 29,
      "outputs": []
    },
    {
      "cell_type": "code",
      "metadata": {
        "colab": {
          "base_uri": "https://localhost:8080/",
          "height": 606
        },
        "id": "OvbNxA0ZMOEE",
        "outputId": "f4505f19-ede0-489e-b7e7-95c689c5d408"
      },
      "source": [
        "plt.figure(figsize=(16,10))\n",
        "sns_plot = sns.scatterplot(\n",
        "    x=\"tsne1\", y=\"tsne2\",\n",
        "    hue=\"y\",\n",
        "    palette=sns.color_palette(\"hls\", 7),\n",
        "    data=df,\n",
        "    legend=\"full\"\n",
        ")\n",
        "\n"
      ],
      "execution_count": 30,
      "outputs": [
        {
          "output_type": "display_data",
          "data": {
            "image/png": "[encoded data removed]",
            "text/plain": [
              "<Figure size 1152x720 with 1 Axes>"
            ]
          },
          "metadata": {
            "needs_background": "light"
          }
        }
      ]
    },
    {
      "cell_type": "code",
      "metadata": {
        "id": "t2-eIrU4MXP_"
      },
      "source": [
        "sns_plot.figure.savefig(\"tsne_questions.png\")"
      ],
      "execution_count": 31,
      "outputs": []
    },
    {
      "cell_type": "code",
      "metadata": {
        "id": "baW1R_VkMW6X"
      },
      "source": [
        "tsne = TSNE(n_components=2, init='random', random_state=0)\n",
        "features = tsne.fit_transform(ans_embed_all)"
      ],
      "execution_count": 32,
      "outputs": []
    },
    {
      "cell_type": "code",
      "metadata": {
        "id": "SizpIuPCMbC_"
      },
      "source": [
        "labels = np.repeat([0, 1], 140)"
      ],
      "execution_count": 33,
      "outputs": []
    },
    {
      "cell_type": "code",
      "metadata": {
        "id": "9jjwEHV-MbAB"
      },
      "source": [
        "df = pd.DataFrame(labels, columns=['y'])"
      ],
      "execution_count": 34,
      "outputs": []
    },
    {
      "cell_type": "code",
      "metadata": {
        "id": "m71ZJCF0Ma9W"
      },
      "source": [
        "df['tsne1'] = features[:, 0]\n",
        "df['tsne2'] = features[:, 1]"
      ],
      "execution_count": 35,
      "outputs": []
    },
    {
      "cell_type": "code",
      "metadata": {
        "colab": {
          "base_uri": "https://localhost:8080/",
          "height": 606
        },
        "id": "zC_s2iaMMlY0",
        "outputId": "e4096631-6d74-49f7-d333-e13e36fcb800"
      },
      "source": [
        "plt.figure(figsize=(16,10))\n",
        "sns_plot = sns.scatterplot(\n",
        "    x=\"tsne1\", y=\"tsne2\",\n",
        "    hue=\"y\",\n",
        "    palette=sns.color_palette(\"hls\", 2),\n",
        "    data=df,\n",
        "    legend=\"full\"\n",
        ")\n",
        "\n"
      ],
      "execution_count": 36,
      "outputs": [
        {
          "output_type": "display_data",
          "data": {
            "image/png": "[encoded data removed]",
            "text/plain": [
              "<Figure size 1152x720 with 1 Axes>"
            ]
          },
          "metadata": {
            "needs_background": "light"
          }
        }
      ]
    },
    {
      "cell_type": "code",
      "metadata": {
        "id": "RSADUpyNMlR2"
      },
      "source": [
        "sns_plot.figure.savefig(\"tsne_answers.png\")"
      ],
      "execution_count": 37,
      "outputs": []
    },
    {
      "cell_type": "code",
      "metadata": {
        "id": "_iWUszokMwCV"
      },
      "source": [
        "##############################################################"
      ],
      "execution_count": null,
      "outputs": []
    },
    {
      "cell_type": "code",
      "metadata": {
        "id": "Sj3Jnzg8Mv_X"
      },
      "source": [
        ""
      ],
      "execution_count": null,
      "outputs": []
    },
    {
      "cell_type": "code",
      "metadata": {
        "colab": {
          "base_uri": "https://localhost:8080/"
        },
        "id": "tlC8EsjgM2UZ",
        "outputId": "4cf03386-a33f-43d5-bc87-a18f0e5ba986"
      },
      "source": [
        "!ls"
      ],
      "execution_count": 38,
      "outputs": [
        {
          "output_type": "stream",
          "name": "stdout",
          "text": [
            "answers.png  data\tget_data.sh  questions.png  tsne_answers.png\n",
            "common\t     file1.txt\tlanguage     README.md\t    tsne_questions.png\n"
          ]
        }
      ]
    },
    {
      "cell_type": "code",
      "metadata": {
        "id": "jYaCzq4YNzSu"
      },
      "source": [
        "np.savetxt(\"file1.txt\",(sentence_embedding1,sentence_embedding2,sentence_embedding3),newline='\\n', delimiter='\\t')"
      ],
      "execution_count": null,
      "outputs": []
    },
    {
      "cell_type": "code",
      "metadata": {
        "id": "ZV0A9BcaXRhi",
        "colab": {
          "base_uri": "https://localhost:8080/"
        },
        "outputId": "5864fd4e-9cb9-4bad-fde2-6325ed3a9be3"
      },
      "source": [
        "!nvidia-smi"
      ],
      "execution_count": 1,
      "outputs": [
        {
          "output_type": "stream",
          "name": "stdout",
          "text": [
            "NVIDIA-SMI has failed because it couldn't communicate with the NVIDIA driver. Make sure that the latest NVIDIA driver is installed and running.\n",
            "\n"
          ]
        }
      ]
    },
    {
      "cell_type": "code",
      "metadata": {
        "id": "IArapAPMM_6Q"
      },
      "source": [
        ""
      ],
      "execution_count": null,
      "outputs": []
    }
  ]
}