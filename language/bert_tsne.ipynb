{
 "cells": [
  {
   "cell_type": "code",
   "execution_count": 61,
   "id": "1fead20b",
   "metadata": {},
   "outputs": [],
   "source": [
    "import torch\n",
    "import numpy as np\n",
    "import os\n",
    "import pandas as pd"
   ]
  },
  {
   "cell_type": "code",
   "execution_count": 3,
   "id": "f543217b",
   "metadata": {},
   "outputs": [],
   "source": [
    "from transformers import AutoTokenizer, AutoModel"
   ]
  },
  {
   "cell_type": "code",
   "execution_count": 4,
   "id": "62364263",
   "metadata": {},
   "outputs": [
    {
     "data": {
      "application/vnd.jupyter.widget-view+json": {
       "model_id": "231a05c5d3a34ef697fa4ca50daace16",
       "version_major": 2,
       "version_minor": 0
      },
      "text/plain": [
       "Downloading:   0%|          | 0.00/28.0 [00:00<?, ?B/s]"
      ]
     },
     "metadata": {},
     "output_type": "display_data"
    },
    {
     "data": {
      "application/vnd.jupyter.widget-view+json": {
       "model_id": "9f1844d7b5ae43ab8100312bff3b50b6",
       "version_major": 2,
       "version_minor": 0
      },
      "text/plain": [
       "Downloading:   0%|          | 0.00/570 [00:00<?, ?B/s]"
      ]
     },
     "metadata": {},
     "output_type": "display_data"
    },
    {
     "data": {
      "application/vnd.jupyter.widget-view+json": {
       "model_id": "59de0a5d23ca4e098c659957112ea1c0",
       "version_major": 2,
       "version_minor": 0
      },
      "text/plain": [
       "Downloading:   0%|          | 0.00/226k [00:00<?, ?B/s]"
      ]
     },
     "metadata": {},
     "output_type": "display_data"
    },
    {
     "data": {
      "application/vnd.jupyter.widget-view+json": {
       "model_id": "6e479d9d10b3410f8a53bec263d0469b",
       "version_major": 2,
       "version_minor": 0
      },
      "text/plain": [
       "Downloading:   0%|          | 0.00/455k [00:00<?, ?B/s]"
      ]
     },
     "metadata": {},
     "output_type": "display_data"
    },
    {
     "data": {
      "application/vnd.jupyter.widget-view+json": {
       "model_id": "be3a6d8867334c44a001aa7a99dbf351",
       "version_major": 2,
       "version_minor": 0
      },
      "text/plain": [
       "Downloading:   0%|          | 0.00/420M [00:00<?, ?B/s]"
      ]
     },
     "metadata": {},
     "output_type": "display_data"
    },
    {
     "name": "stderr",
     "output_type": "stream",
     "text": [
      "Some weights of the model checkpoint at bert-base-uncased were not used when initializing BertModel: ['cls.seq_relationship.bias', 'cls.seq_relationship.weight', 'cls.predictions.decoder.weight', 'cls.predictions.transform.dense.bias', 'cls.predictions.bias', 'cls.predictions.transform.LayerNorm.bias', 'cls.predictions.transform.dense.weight', 'cls.predictions.transform.LayerNorm.weight']\n",
      "- This IS expected if you are initializing BertModel from the checkpoint of a model trained on another task or with another architecture (e.g. initializing a BertForSequenceClassification model from a BertForPreTraining model).\n",
      "- This IS NOT expected if you are initializing BertModel from the checkpoint of a model that you expect to be exactly identical (initializing a BertForSequenceClassification model from a BertForSequenceClassification model).\n"
     ]
    }
   ],
   "source": [
    "tokenizer = AutoTokenizer.from_pretrained('bert-base-uncased')\n",
    "model = AutoModel.from_pretrained('bert-base-uncased', output_hidden_states=True)"
   ]
  },
  {
   "cell_type": "code",
   "execution_count": null,
   "id": "3c9ea640",
   "metadata": {},
   "outputs": [],
   "source": []
  },
  {
   "cell_type": "code",
   "execution_count": 25,
   "id": "7001ca60",
   "metadata": {},
   "outputs": [],
   "source": [
    "def read_samples(path, n=20):\n",
    "    questions, true_ans, false_ans = [], [], []\n",
    "    with open(path, 'r') as f:\n",
    "        for i, line in enumerate(f):\n",
    "            if i % 6 == 0:\n",
    "                questions.append(line.rstrip())\n",
    "            elif i % 6 == 1:\n",
    "                true_ans.append(line.rstrip())\n",
    "            elif i % 6 == 2:\n",
    "                false_ans.append(line.rstrip())\n",
    "            if len(false_ans) >= n:\n",
    "                break\n",
    "    return questions, true_ans, false_ans\n",
    "\n",
    "\n",
    "def get_bert_embedding(sentence):\n",
    "    input_ids = torch.tensor(tokenizer.encode(sentence)).unsqueeze(0)\n",
    "    outputs = model(input_ids)\n",
    "    hidden_states = outputs.hidden_states[-2][0]\n",
    "    sentence_embedding = hidden_states.mean(axis=0).detach().numpy()\n",
    "    return sentence_embedding"
   ]
  },
  {
   "cell_type": "code",
   "execution_count": 26,
   "id": "149e2532",
   "metadata": {},
   "outputs": [],
   "source": [
    "categories = ['what', 'why', 'how', 'who', 'when', 'where', 'which']"
   ]
  },
  {
   "cell_type": "code",
   "execution_count": 27,
   "id": "5218c886",
   "metadata": {},
   "outputs": [],
   "source": [
    "questions_all = []\n",
    "true_answers_all = []\n",
    "false_answers_all = []"
   ]
  },
  {
   "cell_type": "code",
   "execution_count": 28,
   "id": "fe4e4932",
   "metadata": {},
   "outputs": [],
   "source": [
    "for type_str in categories:\n",
    "    path = os.path.join('/home/ubuntu/11777-Project/common/tmp/', type_str + '50.txt')\n",
    "    questions, true_ans, false_ans = read_samples(path)\n",
    "    questions_all.append(questions)\n",
    "    true_answers_all.append(true_ans)\n",
    "    false_answers_all.append(false_ans)"
   ]
  },
  {
   "cell_type": "code",
   "execution_count": 35,
   "id": "e5158093",
   "metadata": {},
   "outputs": [
    {
     "data": {
      "text/plain": [
       "(\"What is on the kid's shirt?\", 'A monkey.', 'A robot.')"
      ]
     },
     "execution_count": 35,
     "metadata": {},
     "output_type": "execute_result"
    }
   ],
   "source": [
    "questions_all[0][-1], true_answers_all[0][-1], false_answers_all[0][-1]"
   ]
  },
  {
   "cell_type": "code",
   "execution_count": null,
   "id": "2544a79f",
   "metadata": {},
   "outputs": [],
   "source": []
  },
  {
   "cell_type": "code",
   "execution_count": 80,
   "id": "b724f319",
   "metadata": {},
   "outputs": [],
   "source": [
    "questions_embeddings = [[get_bert_embedding(q) for q in questions] for questions in questions_all]\n",
    "true_answers_embeddings = [[get_bert_embedding(ta) for ta in true_answers] for true_answers in true_answers_all]\n",
    "false_answers_embeddings = [[get_bert_embedding(fa) for fa in false_answers] for false_answers in false_answers_all]"
   ]
  },
  {
   "cell_type": "code",
   "execution_count": 81,
   "id": "cfae385f",
   "metadata": {},
   "outputs": [],
   "source": [
    "true_embed_all = np.vstack(true_answers_embeddings)\n",
    "false_embed_all = np.vstack(false_answers_embeddings)"
   ]
  },
  {
   "cell_type": "code",
   "execution_count": 83,
   "id": "0f61cb53",
   "metadata": {},
   "outputs": [
    {
     "data": {
      "text/plain": [
       "((140, 768), (140, 768))"
      ]
     },
     "execution_count": 83,
     "metadata": {},
     "output_type": "execute_result"
    }
   ],
   "source": [
    "true_embed_all.shape, false_embed_all.shape"
   ]
  },
  {
   "cell_type": "code",
   "execution_count": 84,
   "id": "05e4e85c",
   "metadata": {},
   "outputs": [],
   "source": [
    "ans_embed_all = np.vstack((true_embed_all, false_embed_all))"
   ]
  },
  {
   "cell_type": "code",
   "execution_count": null,
   "id": "757db793",
   "metadata": {},
   "outputs": [],
   "source": []
  },
  {
   "cell_type": "code",
   "execution_count": 44,
   "id": "6491ac78",
   "metadata": {},
   "outputs": [],
   "source": [
    "questions_embed_all = np.vstack(questions_embeddings)"
   ]
  },
  {
   "cell_type": "code",
   "execution_count": 46,
   "id": "dd019e43",
   "metadata": {},
   "outputs": [
    {
     "data": {
      "text/plain": [
       "(140, 768)"
      ]
     },
     "execution_count": 46,
     "metadata": {},
     "output_type": "execute_result"
    }
   ],
   "source": [
    "questions_embed_all.shape"
   ]
  },
  {
   "cell_type": "code",
   "execution_count": null,
   "id": "d904283a",
   "metadata": {},
   "outputs": [],
   "source": [
    "import matplotlib.pyplot as plt\n",
    "from sklearn.manifold import TSNE"
   ]
  },
  {
   "cell_type": "code",
   "execution_count": 55,
   "id": "76551a50",
   "metadata": {},
   "outputs": [],
   "source": [
    "tsne = TSNE(n_components=2, init='random', random_state=0)\n",
    "features = tsne.fit_transform(questions_embed_all)"
   ]
  },
  {
   "cell_type": "code",
   "execution_count": 59,
   "id": "4e6aa6a8",
   "metadata": {},
   "outputs": [
    {
     "data": {
      "text/plain": [
       "(20, 2)"
      ]
     },
     "execution_count": 59,
     "metadata": {},
     "output_type": "execute_result"
    }
   ],
   "source": [
    "features[:20].shape"
   ]
  },
  {
   "cell_type": "code",
   "execution_count": 62,
   "id": "e64c8f67",
   "metadata": {},
   "outputs": [],
   "source": [
    "labels = np.repeat([0, 1, 2, 3, 4, 5, 6], 20)"
   ]
  },
  {
   "cell_type": "code",
   "execution_count": 63,
   "id": "712713be",
   "metadata": {},
   "outputs": [
    {
     "data": {
      "text/plain": [
       "array([0, 0, 0, 0, 0, 0, 0, 0, 0, 0, 0, 0, 0, 0, 0, 0, 0, 0, 0, 0, 1, 1,\n",
       "       1, 1, 1, 1, 1, 1, 1, 1, 1, 1, 1, 1, 1, 1, 1, 1, 1, 1, 2, 2, 2, 2,\n",
       "       2, 2, 2, 2, 2, 2, 2, 2, 2, 2, 2, 2, 2, 2, 2, 2, 3, 3, 3, 3, 3, 3,\n",
       "       3, 3, 3, 3, 3, 3, 3, 3, 3, 3, 3, 3, 3, 3, 4, 4, 4, 4, 4, 4, 4, 4,\n",
       "       4, 4, 4, 4, 4, 4, 4, 4, 4, 4, 4, 4, 5, 5, 5, 5, 5, 5, 5, 5, 5, 5,\n",
       "       5, 5, 5, 5, 5, 5, 5, 5, 5, 5, 6, 6, 6, 6, 6, 6, 6, 6, 6, 6, 6, 6,\n",
       "       6, 6, 6, 6, 6, 6, 6, 6])"
      ]
     },
     "execution_count": 63,
     "metadata": {},
     "output_type": "execute_result"
    }
   ],
   "source": [
    "labels"
   ]
  },
  {
   "cell_type": "code",
   "execution_count": 65,
   "id": "3ad19df7",
   "metadata": {},
   "outputs": [],
   "source": [
    "df = pd.DataFrame(labels, columns=['y'])"
   ]
  },
  {
   "cell_type": "code",
   "execution_count": 47,
   "id": "329ac771",
   "metadata": {},
   "outputs": [],
   "source": [
    "colors = ['red', 'black', 'blue', 'yellow', 'green', 'orange', 'brown']"
   ]
  },
  {
   "cell_type": "code",
   "execution_count": null,
   "id": "cc68bce3",
   "metadata": {},
   "outputs": [],
   "source": []
  },
  {
   "cell_type": "code",
   "execution_count": 67,
   "id": "7f424497",
   "metadata": {},
   "outputs": [],
   "source": [
    "df['tsne1'] = features[:, 0]\n",
    "df['tsne2'] = features[:, 1]"
   ]
  },
  {
   "cell_type": "code",
   "execution_count": 68,
   "id": "3bd02589",
   "metadata": {},
   "outputs": [
    {
     "data": {
      "text/html": [
       "<div>\n",
       "<style scoped>\n",
       "    .dataframe tbody tr th:only-of-type {\n",
       "        vertical-align: middle;\n",
       "    }\n",
       "\n",
       "    .dataframe tbody tr th {\n",
       "        vertical-align: top;\n",
       "    }\n",
       "\n",
       "    .dataframe thead th {\n",
       "        text-align: right;\n",
       "    }\n",
       "</style>\n",
       "<table border=\"1\" class=\"dataframe\">\n",
       "  <thead>\n",
       "    <tr style=\"text-align: right;\">\n",
       "      <th></th>\n",
       "      <th>y</th>\n",
       "      <th>tsne1</th>\n",
       "      <th>tsne2</th>\n",
       "    </tr>\n",
       "  </thead>\n",
       "  <tbody>\n",
       "    <tr>\n",
       "      <th>0</th>\n",
       "      <td>0</td>\n",
       "      <td>-3.807461</td>\n",
       "      <td>-0.266278</td>\n",
       "    </tr>\n",
       "    <tr>\n",
       "      <th>1</th>\n",
       "      <td>0</td>\n",
       "      <td>5.004178</td>\n",
       "      <td>-6.464205</td>\n",
       "    </tr>\n",
       "    <tr>\n",
       "      <th>2</th>\n",
       "      <td>0</td>\n",
       "      <td>-1.527342</td>\n",
       "      <td>-0.229206</td>\n",
       "    </tr>\n",
       "    <tr>\n",
       "      <th>3</th>\n",
       "      <td>0</td>\n",
       "      <td>-2.774745</td>\n",
       "      <td>-2.218796</td>\n",
       "    </tr>\n",
       "    <tr>\n",
       "      <th>4</th>\n",
       "      <td>0</td>\n",
       "      <td>-3.183876</td>\n",
       "      <td>-0.080214</td>\n",
       "    </tr>\n",
       "    <tr>\n",
       "      <th>...</th>\n",
       "      <td>...</td>\n",
       "      <td>...</td>\n",
       "      <td>...</td>\n",
       "    </tr>\n",
       "    <tr>\n",
       "      <th>135</th>\n",
       "      <td>6</td>\n",
       "      <td>0.683523</td>\n",
       "      <td>4.600150</td>\n",
       "    </tr>\n",
       "    <tr>\n",
       "      <th>136</th>\n",
       "      <td>6</td>\n",
       "      <td>-3.274372</td>\n",
       "      <td>6.578784</td>\n",
       "    </tr>\n",
       "    <tr>\n",
       "      <th>137</th>\n",
       "      <td>6</td>\n",
       "      <td>8.110565</td>\n",
       "      <td>-0.859051</td>\n",
       "    </tr>\n",
       "    <tr>\n",
       "      <th>138</th>\n",
       "      <td>6</td>\n",
       "      <td>7.496559</td>\n",
       "      <td>0.938960</td>\n",
       "    </tr>\n",
       "    <tr>\n",
       "      <th>139</th>\n",
       "      <td>6</td>\n",
       "      <td>1.957093</td>\n",
       "      <td>-4.885387</td>\n",
       "    </tr>\n",
       "  </tbody>\n",
       "</table>\n",
       "<p>140 rows × 3 columns</p>\n",
       "</div>"
      ],
      "text/plain": [
       "     y     tsne1     tsne2\n",
       "0    0 -3.807461 -0.266278\n",
       "1    0  5.004178 -6.464205\n",
       "2    0 -1.527342 -0.229206\n",
       "3    0 -2.774745 -2.218796\n",
       "4    0 -3.183876 -0.080214\n",
       "..  ..       ...       ...\n",
       "135  6  0.683523  4.600150\n",
       "136  6 -3.274372  6.578784\n",
       "137  6  8.110565 -0.859051\n",
       "138  6  7.496559  0.938960\n",
       "139  6  1.957093 -4.885387\n",
       "\n",
       "[140 rows x 3 columns]"
      ]
     },
     "execution_count": 68,
     "metadata": {},
     "output_type": "execute_result"
    }
   ],
   "source": [
    "df"
   ]
  },
  {
   "cell_type": "code",
   "execution_count": 69,
   "id": "1f355f4e",
   "metadata": {},
   "outputs": [],
   "source": [
    "import seaborn as sns"
   ]
  },
  {
   "cell_type": "code",
   "execution_count": 77,
   "id": "a2825b4d",
   "metadata": {},
   "outputs": [
    {
     "data": {
      "image/png": "[encoded data removed]",
      "text/plain": [
       "<Figure size 1152x720 with 1 Axes>"
      ]
     },
     "metadata": {
      "needs_background": "light"
     },
     "output_type": "display_data"
    }
   ],
   "source": [
    "plt.figure(figsize=(16,10))\n",
    "sns_plot = sns.scatterplot(\n",
    "    x=\"tsne1\", y=\"tsne2\",\n",
    "    hue=\"y\",\n",
    "    palette=sns.color_palette(\"hls\", 7),\n",
    "    data=df,\n",
    "    legend=\"full\"\n",
    ")"
   ]
  },
  {
   "cell_type": "code",
   "execution_count": 79,
   "id": "51ddefe1",
   "metadata": {},
   "outputs": [],
   "source": [
    "sns_plot.figure.savefig(\"questions.png\")"
   ]
  },
  {
   "cell_type": "code",
   "execution_count": null,
   "id": "e527028b",
   "metadata": {},
   "outputs": [],
   "source": []
  },
  {
   "cell_type": "code",
   "execution_count": 89,
   "id": "42be2001",
   "metadata": {},
   "outputs": [],
   "source": [
    "tsne = TSNE(n_components=2, init='random', random_state=0)\n",
    "features = tsne.fit_transform(ans_embed_all)"
   ]
  },
  {
   "cell_type": "code",
   "execution_count": 90,
   "id": "96dad006",
   "metadata": {},
   "outputs": [],
   "source": [
    "labels = np.repeat([0, 1], 140)"
   ]
  },
  {
   "cell_type": "code",
   "execution_count": 93,
   "id": "03e6b5c4",
   "metadata": {},
   "outputs": [],
   "source": [
    "df = pd.DataFrame(labels, columns=['y'])"
   ]
  },
  {
   "cell_type": "code",
   "execution_count": 94,
   "id": "d6281cd6",
   "metadata": {},
   "outputs": [],
   "source": [
    "df['tsne1'] = features[:, 0]\n",
    "df['tsne2'] = features[:, 1]"
   ]
  },
  {
   "cell_type": "code",
   "execution_count": 95,
   "id": "1c89ad65",
   "metadata": {},
   "outputs": [
    {
     "data": {
      "image/png": "[encoded data removed]",
      "text/plain": [
       "<Figure size 1152x720 with 1 Axes>"
      ]
     },
     "metadata": {
      "needs_background": "light"
     },
     "output_type": "display_data"
    }
   ],
   "source": [
    "plt.figure(figsize=(16,10))\n",
    "sns_plot = sns.scatterplot(\n",
    "    x=\"tsne1\", y=\"tsne2\",\n",
    "    hue=\"y\",\n",
    "    palette=sns.color_palette(\"hls\", 2),\n",
    "    data=df,\n",
    "    legend=\"full\"\n",
    ")"
   ]
  },
  {
   "cell_type": "code",
   "execution_count": 96,
   "id": "a9b3a917",
   "metadata": {},
   "outputs": [],
   "source": [
    "sns_plot.figure.savefig(\"answers.png\")"
   ]
  },
  {
   "cell_type": "code",
   "execution_count": null,
   "id": "ddb39c7e",
   "metadata": {},
   "outputs": [],
   "source": []
  },
  {
   "cell_type": "code",
   "execution_count": 3,
   "id": "bec0161f",
   "metadata": {},
   "outputs": [
    {
     "name": "stdout",
     "output_type": "stream",
     "text": [
      "Initializing data provider for dataset dataset_v7w_telling.json...\n",
      "BasicDataProvider: reading /home/ubuntu/11777-Project/data/dataset_v7w_telling.json\n"
     ]
    }
   ],
   "source": [
    "from common.get_data import BasicDataProvider\n",
    "bdp = BasicDataProvider(dataset_root='/home/ubuntu/11777-Project/data', \n",
    "                           dataset_name = 'dataset_v7w_telling.json')"
   ]
  },
  {
   "cell_type": "code",
   "execution_count": 4,
   "id": "390ab107",
   "metadata": {},
   "outputs": [],
   "source": [
    "sample = bdp.sampleImageQAPair()"
   ]
  },
  {
   "cell_type": "code",
   "execution_count": 5,
   "id": "0d891ff6",
   "metadata": {},
   "outputs": [
    {
     "data": {
      "text/plain": [
       "'why'"
      ]
     },
     "execution_count": 5,
     "metadata": {},
     "output_type": "execute_result"
    }
   ],
   "source": [
    "sample['qa_pair']['type']"
   ]
  },
  {
   "cell_type": "code",
   "execution_count": 11,
   "id": "e6de1516",
   "metadata": {
    "scrolled": true
   },
   "outputs": [
    {
     "data": {
      "text/plain": [
       "{'image_id': 2337762,\n",
       " 'question': 'Why the men holding the surfboards?',\n",
       " 'multiple_choices': ['To get to the water.', 'For fun.', 'For exercise.'],\n",
       " 'qa_id': 269303,\n",
       " 'answer': 'To surf.',\n",
       " 'type': 'why'}"
      ]
     },
     "execution_count": 11,
     "metadata": {},
     "output_type": "execute_result"
    }
   ],
   "source": [
    "sample['qa_pair']"
   ]
  },
  {
   "cell_type": "code",
   "execution_count": null,
   "id": "6ad06847",
   "metadata": {},
   "outputs": [],
   "source": []
  },
  {
   "cell_type": "code",
   "execution_count": 20,
   "id": "fb67556f",
   "metadata": {},
   "outputs": [],
   "source": [
    "sample1, sample2 = bdp.sampleImageQAPair(), bdp.sampleImageQAPair()"
   ]
  },
  {
   "cell_type": "code",
   "execution_count": 24,
   "id": "fda9a675",
   "metadata": {},
   "outputs": [],
   "source": [
    "question1 = sample1['qa_pair']['question']\n",
    "question2 = sample2['qa_pair']['question']"
   ]
  },
  {
   "cell_type": "code",
   "execution_count": 25,
   "id": "6aba8191",
   "metadata": {},
   "outputs": [
    {
     "data": {
      "text/plain": [
       "('What is he holding?', 'How many giraffes are in the scene?')"
      ]
     },
     "execution_count": 25,
     "metadata": {},
     "output_type": "execute_result"
    }
   ],
   "source": [
    "question1, question2"
   ]
  },
  {
   "cell_type": "code",
   "execution_count": 34,
   "id": "9137d446",
   "metadata": {},
   "outputs": [
    {
     "data": {
      "text/plain": [
       "[[101, 2054, 2003, 2002, 3173, 1029, 102],\n",
       " [101,\n",
       "  2129,\n",
       "  2116,\n",
       "  21025,\n",
       "  27528,\n",
       "  7959,\n",
       "  2015,\n",
       "  2024,\n",
       "  1999,\n",
       "  1996,\n",
       "  3496,\n",
       "  1029,\n",
       "  102]]"
      ]
     },
     "execution_count": 34,
     "metadata": {},
     "output_type": "execute_result"
    }
   ],
   "source": [
    "tokenizer([question1, question2]).input_ids"
   ]
  },
  {
   "cell_type": "code",
   "execution_count": 56,
   "id": "36c5b876",
   "metadata": {},
   "outputs": [],
   "source": [
    "input_ids = torch.tensor(tokenizer.encode(question1)).unsqueeze(0)\n",
    "outputs = model(input_ids)\n",
    "hidden_states1 = outputs.hidden_states[-2][0]"
   ]
  },
  {
   "cell_type": "code",
   "execution_count": 57,
   "id": "bf71b8e3",
   "metadata": {},
   "outputs": [],
   "source": [
    "input_ids = torch.tensor(tokenizer.encode(question2)).unsqueeze(0)\n",
    "outputs = model(input_ids)\n",
    "hidden_states2 = outputs.hidden_states[-2][0]"
   ]
  },
  {
   "cell_type": "code",
   "execution_count": 59,
   "id": "52655682",
   "metadata": {},
   "outputs": [
    {
     "data": {
      "text/plain": [
       "(torch.Size([7, 768]), torch.Size([13, 768]))"
      ]
     },
     "execution_count": 59,
     "metadata": {},
     "output_type": "execute_result"
    }
   ],
   "source": [
    "hidden_states1.shape, hidden_states2.shape"
   ]
  },
  {
   "cell_type": "code",
   "execution_count": 60,
   "id": "fe899179",
   "metadata": {},
   "outputs": [],
   "source": [
    "sentence_embedding1 = hidden_states1.mean(axis=0).detach().numpy()\n",
    "sentence_embedding2 = hidden_states2.mean(axis=0).detach().numpy()"
   ]
  },
  {
   "cell_type": "code",
   "execution_count": 61,
   "id": "b927a3ca",
   "metadata": {},
   "outputs": [
    {
     "data": {
      "text/plain": [
       "((768,), (768,))"
      ]
     },
     "execution_count": 61,
     "metadata": {},
     "output_type": "execute_result"
    }
   ],
   "source": [
    "sentence_embedding1.shape, sentence_embedding2.shape"
   ]
  },
  {
   "cell_type": "code",
   "execution_count": 65,
   "id": "5945e7df",
   "metadata": {},
   "outputs": [
    {
     "data": {
      "text/plain": [
       "(2, 768)"
      ]
     },
     "execution_count": 65,
     "metadata": {},
     "output_type": "execute_result"
    }
   ],
   "source": [
    "np.array([sentence_embedding1, sentence_embedding2])"
   ]
  },
  {
   "cell_type": "code",
   "execution_count": 66,
   "id": "632c1d2c",
   "metadata": {},
   "outputs": [],
   "source": [
    "all_embedding = np.array([sentence_embedding1, sentence_embedding2])"
   ]
  },
  {
   "cell_type": "code",
   "execution_count": null,
   "id": "f9132dc3",
   "metadata": {},
   "outputs": [],
   "source": []
  },
  {
   "cell_type": "code",
   "execution_count": 71,
   "id": "c833268d",
   "metadata": {},
   "outputs": [],
   "source": [
    "import matplotlib.pyplot as plt\n",
    "from sklearn.manifold import TSNE"
   ]
  },
  {
   "cell_type": "code",
   "execution_count": 67,
   "id": "5873cc89",
   "metadata": {},
   "outputs": [],
   "source": [
    "tsne = TSNE(n_components=2, init='random', random_state=0)\n",
    "features = tsne.fit_transform(all_embedding)"
   ]
  },
  {
   "cell_type": "code",
   "execution_count": 68,
   "id": "8315a9ba",
   "metadata": {},
   "outputs": [
    {
     "data": {
      "text/plain": [
       "array([[ -60.312317,  141.36963 ],\n",
       "       [  60.31256 , -141.36914 ]], dtype=float32)"
      ]
     },
     "execution_count": 68,
     "metadata": {},
     "output_type": "execute_result"
    }
   ],
   "source": [
    "features"
   ]
  },
  {
   "cell_type": "code",
   "execution_count": 69,
   "id": "bf181c03",
   "metadata": {},
   "outputs": [],
   "source": [
    "def tsne_plot(features):\n",
    "    plt.figure()\n",
    "    \n",
    "    plt.xlabel('TSNE 1', fontsize=15)\n",
    "    plt.ylabel('TSNE 2', fontsize=15)\n",
    "    plt.title('TSNE for sentence embedding', fontsize=20)\n",
    "    plt.scatter(features[:, 0], features[:, 1], c='r', s=5)\n",
    "    plt.show()"
   ]
  },
  {
   "cell_type": "code",
   "execution_count": 72,
   "id": "bde4e91b",
   "metadata": {},
   "outputs": [
    {
     "data": {
      "image/png": "[encoded data removed]",
      "text/plain": [
       "<Figure size 432x288 with 1 Axes>"
      ]
     },
     "metadata": {
      "needs_background": "light"
     },
     "output_type": "display_data"
    }
   ],
   "source": [
    "tsne_plot(features)"
   ]
  },
  {
   "cell_type": "code",
   "execution_count": null,
   "id": "bca159e5",
   "metadata": {},
   "outputs": [],
   "source": []
  }
 ],
 "metadata": {
  "kernelspec": {
   "display_name": "Environment (conda_pytorch_p37)",
   "language": "python",
   "name": "conda_pytorch_p37"
  },
  "language_info": {
   "codemirror_mode": {
    "name": "ipython",
    "version": 3
   },
   "file_extension": ".py",
   "mimetype": "text/x-python",
   "name": "python",
   "nbconvert_exporter": "python",
   "pygments_lexer": "ipython3",
   "version": "3.7.10"
  }
 },
 "nbformat": 4,
 "nbformat_minor": 5
}
