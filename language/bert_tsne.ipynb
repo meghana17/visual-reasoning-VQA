{
 "cells": [
  {
   "cell_type": "code",
   "execution_count": 63,
   "id": "1fead20b",
   "metadata": {},
   "outputs": [],
   "source": [
    "import torch\n",
    "import numpy as np"
   ]
  },
  {
   "cell_type": "code",
   "execution_count": 2,
   "id": "f543217b",
   "metadata": {},
   "outputs": [],
   "source": [
    "from transformers import AutoTokenizer, AutoModel"
   ]
  },
  {
   "cell_type": "code",
   "execution_count": 3,
   "id": "62364263",
   "metadata": {},
   "outputs": [
    {
     "name": "stderr",
     "output_type": "stream",
     "text": [
      "Some weights of the model checkpoint at bert-base-uncased were not used when initializing BertModel: ['cls.seq_relationship.weight', 'cls.predictions.transform.LayerNorm.weight', 'cls.predictions.bias', 'cls.predictions.transform.LayerNorm.bias', 'cls.predictions.transform.dense.weight', 'cls.predictions.transform.dense.bias', 'cls.predictions.decoder.weight', 'cls.seq_relationship.bias']\n",
      "- This IS expected if you are initializing BertModel from the checkpoint of a model trained on another task or with another architecture (e.g. initializing a BertForSequenceClassification model from a BertForPreTraining model).\n",
      "- This IS NOT expected if you are initializing BertModel from the checkpoint of a model that you expect to be exactly identical (initializing a BertForSequenceClassification model from a BertForSequenceClassification model).\n"
     ]
    }
   ],
   "source": [
    "tokenizer = AutoTokenizer.from_pretrained('bert-base-uncased')\n",
    "model = AutoModel.from_pretrained('bert-base-uncased', output_hidden_states=True)"
   ]
  },
  {
   "cell_type": "code",
   "execution_count": 4,
   "id": "bec0161f",
   "metadata": {},
   "outputs": [
    {
     "name": "stdout",
     "output_type": "stream",
     "text": [
      "Initializing data provider for dataset dataset_v7w_telling.json...\n",
      "BasicDataProvider: reading /home/ubuntu/11777-Project/data/dataset_v7w_telling.json\n"
     ]
    }
   ],
   "source": [
    "from common.get_data import BasicDataProvider\n",
    "bdp = BasicDataProvider(dataset_root='/home/ubuntu/11777-Project/data', \n",
    "                           dataset_name = 'dataset_v7w_telling.json')"
   ]
  },
  {
   "cell_type": "code",
   "execution_count": 20,
   "id": "fb67556f",
   "metadata": {},
   "outputs": [],
   "source": [
    "sample1, sample2 = bdp.sampleImageQAPair(), bdp.sampleImageQAPair()"
   ]
  },
  {
   "cell_type": "code",
   "execution_count": 24,
   "id": "fda9a675",
   "metadata": {},
   "outputs": [],
   "source": [
    "question1 = sample1['qa_pair']['question']\n",
    "question2 = sample2['qa_pair']['question']"
   ]
  },
  {
   "cell_type": "code",
   "execution_count": 25,
   "id": "6aba8191",
   "metadata": {},
   "outputs": [
    {
     "data": {
      "text/plain": [
       "('What is he holding?', 'How many giraffes are in the scene?')"
      ]
     },
     "execution_count": 25,
     "metadata": {},
     "output_type": "execute_result"
    }
   ],
   "source": [
    "question1, question2"
   ]
  },
  {
   "cell_type": "code",
   "execution_count": 34,
   "id": "9137d446",
   "metadata": {},
   "outputs": [
    {
     "data": {
      "text/plain": [
       "[[101, 2054, 2003, 2002, 3173, 1029, 102],\n",
       " [101,\n",
       "  2129,\n",
       "  2116,\n",
       "  21025,\n",
       "  27528,\n",
       "  7959,\n",
       "  2015,\n",
       "  2024,\n",
       "  1999,\n",
       "  1996,\n",
       "  3496,\n",
       "  1029,\n",
       "  102]]"
      ]
     },
     "execution_count": 34,
     "metadata": {},
     "output_type": "execute_result"
    }
   ],
   "source": [
    "tokenizer([question1, question2]).input_ids"
   ]
  },
  {
   "cell_type": "code",
   "execution_count": 56,
   "id": "36c5b876",
   "metadata": {},
   "outputs": [],
   "source": [
    "input_ids = torch.tensor(tokenizer.encode(question1)).unsqueeze(0)\n",
    "outputs = model(input_ids)\n",
    "hidden_states1 = outputs.hidden_states[-2][0]"
   ]
  },
  {
   "cell_type": "code",
   "execution_count": 57,
   "id": "bf71b8e3",
   "metadata": {},
   "outputs": [],
   "source": [
    "input_ids = torch.tensor(tokenizer.encode(question2)).unsqueeze(0)\n",
    "outputs = model(input_ids)\n",
    "hidden_states2 = outputs.hidden_states[-2][0]"
   ]
  },
  {
   "cell_type": "code",
   "execution_count": 59,
   "id": "52655682",
   "metadata": {},
   "outputs": [
    {
     "data": {
      "text/plain": [
       "(torch.Size([7, 768]), torch.Size([13, 768]))"
      ]
     },
     "execution_count": 59,
     "metadata": {},
     "output_type": "execute_result"
    }
   ],
   "source": [
    "hidden_states1.shape, hidden_states2.shape"
   ]
  },
  {
   "cell_type": "code",
   "execution_count": 60,
   "id": "fe899179",
   "metadata": {},
   "outputs": [],
   "source": [
    "sentence_embedding1 = hidden_states1.mean(axis=0).detach().numpy()\n",
    "sentence_embedding2 = hidden_states2.mean(axis=0).detach().numpy()"
   ]
  },
  {
   "cell_type": "code",
   "execution_count": 61,
   "id": "b927a3ca",
   "metadata": {},
   "outputs": [
    {
     "data": {
      "text/plain": [
       "((768,), (768,))"
      ]
     },
     "execution_count": 61,
     "metadata": {},
     "output_type": "execute_result"
    }
   ],
   "source": [
    "sentence_embedding1.shape, sentence_embedding2.shape"
   ]
  },
  {
   "cell_type": "code",
   "execution_count": 65,
   "id": "5945e7df",
   "metadata": {},
   "outputs": [
    {
     "data": {
      "text/plain": [
       "(2, 768)"
      ]
     },
     "execution_count": 65,
     "metadata": {},
     "output_type": "execute_result"
    }
   ],
   "source": [
    "np.array([sentence_embedding1, sentence_embedding2])"
   ]
  },
  {
   "cell_type": "code",
   "execution_count": 66,
   "id": "632c1d2c",
   "metadata": {},
   "outputs": [],
   "source": [
    "all_embedding = np.array([sentence_embedding1, sentence_embedding2])"
   ]
  },
  {
   "cell_type": "code",
   "execution_count": null,
   "id": "f9132dc3",
   "metadata": {},
   "outputs": [],
   "source": []
  },
  {
   "cell_type": "code",
   "execution_count": 71,
   "id": "c833268d",
   "metadata": {},
   "outputs": [],
   "source": [
    "import matplotlib.pyplot as plt\n",
    "from sklearn.manifold import TSNE"
   ]
  },
  {
   "cell_type": "code",
   "execution_count": 67,
   "id": "5873cc89",
   "metadata": {},
   "outputs": [],
   "source": [
    "tsne = TSNE(n_components=2, init='random', random_state=0)\n",
    "features = tsne.fit_transform(all_embedding)"
   ]
  },
  {
   "cell_type": "code",
   "execution_count": 68,
   "id": "8315a9ba",
   "metadata": {},
   "outputs": [
    {
     "data": {
      "text/plain": [
       "array([[ -60.312317,  141.36963 ],\n",
       "       [  60.31256 , -141.36914 ]], dtype=float32)"
      ]
     },
     "execution_count": 68,
     "metadata": {},
     "output_type": "execute_result"
    }
   ],
   "source": [
    "features"
   ]
  },
  {
   "cell_type": "code",
   "execution_count": 69,
   "id": "bf181c03",
   "metadata": {},
   "outputs": [],
   "source": [
    "def tsne_plot(features):\n",
    "    plt.figure()\n",
    "    \n",
    "    plt.xlabel('TSNE 1', fontsize=15)\n",
    "    plt.ylabel('TSNE 2', fontsize=15)\n",
    "    plt.title('TSNE for sentence embedding', fontsize=20)\n",
    "    plt.scatter(features[:, 0], features[:, 1], c='r', s=5)\n",
    "    plt.show()"
   ]
  },
  {
   "cell_type": "code",
   "execution_count": 72,
   "id": "bde4e91b",
   "metadata": {},
   "outputs": [
    {
     "data": {
      "image/png": "[encoded data removed]",
      "text/plain": [
       "<Figure size 432x288 with 1 Axes>"
      ]
     },
     "metadata": {
      "needs_background": "light"
     },
     "output_type": "display_data"
    }
   ],
   "source": [
    "tsne_plot(features)"
   ]
  },
  {
   "cell_type": "code",
   "execution_count": null,
   "id": "bca159e5",
   "metadata": {},
   "outputs": [],
   "source": []
  }
 ],
 "metadata": {
  "kernelspec": {
   "display_name": "Environment (conda_pytorch_p37)",
   "language": "python",
   "name": "conda_pytorch_p37"
  },
  "language_info": {
   "codemirror_mode": {
    "name": "ipython",
    "version": 3
   },
   "file_extension": ".py",
   "mimetype": "text/x-python",
   "name": "python",
   "nbconvert_exporter": "python",
   "pygments_lexer": "ipython3",
   "version": "3.7.10"
  }
 },
 "nbformat": 4,
 "nbformat_minor": 5
}
